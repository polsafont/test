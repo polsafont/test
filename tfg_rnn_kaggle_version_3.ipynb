{
  "metadata": {
    "kernelspec": {
      "language": "python",
      "display_name": "Python 3",
      "name": "python3"
    },
    "language_info": {
      "name": "python",
      "version": "3.7.12",
      "mimetype": "text/x-python",
      "codemirror_mode": {
        "name": "ipython",
        "version": 3
      },
      "pygments_lexer": "ipython3",
      "nbconvert_exporter": "python",
      "file_extension": ".py"
    },
    "colab": {
      "name": "tfg-rnn-kaggle-version-3.ipynb",
      "provenance": [],
      "collapsed_sections": [],
      "include_colab_link": true
    },
    "accelerator": "GPU"
  },
  "nbformat_minor": 0,
  "nbformat": 4,
  "cells": [
    {
      "cell_type": "markdown",
      "metadata": {
        "id": "view-in-github",
        "colab_type": "text"
      },
      "source": [
        "<a href=\"https://colab.research.google.com/github/polsafont/test/blob/master/tfg_rnn_kaggle_version_3.ipynb\" target=\"_parent\"><img src=\"https://colab.research.google.com/assets/colab-badge.svg\" alt=\"Open In Colab\"/></a>"
      ]
    },
    {
      "cell_type": "markdown",
      "source": [
        "# TFG - RNN with attention\n",
        "\n",
        "## Introduction\n",
        "\n",
        "MNT model RNN encoder/decoder with attention based on seq2seq paper\n"
      ],
      "metadata": {
        "id": "kTodYZjDKNM9"
      }
    },
    {
      "cell_type": "code",
      "source": [
        "import torch\n",
        "import torch.nn as nn\n",
        "import torch.optim as optim\n",
        "import torch.nn.functional as F\n",
        "\n",
        "from torchtext.legacy.data import Field, BucketIterator, TabularDataset\n",
        "from sklearn.model_selection import train_test_split\n",
        "\n",
        "\n",
        "\n",
        "import matplotlib.pyplot as plt\n",
        "import matplotlib.ticker as ticker\n",
        "\n",
        "import spacy\n",
        "import numpy as np\n",
        "import pandas as pd\n",
        "\n",
        "import random\n",
        "import math\n",
        "import time\n",
        "\n",
        "\n",
        "import torch.utils.data as data_utils\n",
        "\n",
        "import torch\n",
        "from torchtext import data\n",
        "from torchtext import datasets\n",
        "from torch.utils.data import DataLoader"
      ],
      "metadata": {
        "id": "yZSqGLyHKNNE",
        "execution": {
          "iopub.status.busy": "2022-01-24T11:47:59.885491Z",
          "iopub.execute_input": "2022-01-24T11:47:59.885994Z",
          "iopub.status.idle": "2022-01-24T11:48:10.196103Z",
          "shell.execute_reply.started": "2022-01-24T11:47:59.885907Z",
          "shell.execute_reply": "2022-01-24T11:48:10.195307Z"
        },
        "trusted": true
      },
      "execution_count": 1,
      "outputs": []
    },
    {
      "cell_type": "markdown",
      "source": [
        "Random seed per poder replicar resultats"
      ],
      "metadata": {
        "id": "gYsk18ljKNNH"
      }
    },
    {
      "cell_type": "code",
      "source": [
        "SEED = 1\n",
        "\n",
        "random.seed(SEED)\n",
        "np.random.seed(SEED)\n",
        "torch.manual_seed(SEED)\n",
        "torch.cuda.manual_seed(SEED)\n",
        "torch.backends.cudnn.deterministic = True"
      ],
      "metadata": {
        "id": "E9qMzdKDKNNH",
        "execution": {
          "iopub.status.busy": "2022-01-24T11:48:10.197777Z",
          "iopub.execute_input": "2022-01-24T11:48:10.198047Z",
          "iopub.status.idle": "2022-01-24T11:48:10.205652Z",
          "shell.execute_reply.started": "2022-01-24T11:48:10.198011Z",
          "shell.execute_reply": "2022-01-24T11:48:10.204962Z"
        },
        "trusted": true
      },
      "execution_count": 2,
      "outputs": []
    },
    {
      "cell_type": "code",
      "source": [
        "pip freeze > requirements.txt"
      ],
      "metadata": {
        "execution": {
          "iopub.status.busy": "2022-01-24T11:48:10.207067Z",
          "iopub.execute_input": "2022-01-24T11:48:10.207349Z",
          "iopub.status.idle": "2022-01-24T11:48:13.591198Z",
          "shell.execute_reply.started": "2022-01-24T11:48:10.207311Z",
          "shell.execute_reply": "2022-01-24T11:48:13.590370Z"
        },
        "trusted": true,
        "id": "D249OBxPDOZE"
      },
      "execution_count": 3,
      "outputs": []
    },
    {
      "cell_type": "markdown",
      "source": [
        "<a href= 'requirements.txt' > Download Requirements File </a>"
      ],
      "metadata": {
        "id": "JrPdOdrHDOZE"
      }
    },
    {
      "cell_type": "markdown",
      "source": [
        "Connect and start google drive folder. Alternative gdown"
      ],
      "metadata": {
        "id": "w25UE8lLBEYO"
      }
    },
    {
      "cell_type": "code",
      "source": [
        "#Per treballar deesde colab\n",
        "#from google.colab import drive\n",
        "#drive.mount('/gdrive')\n",
        "#%cd /gdrive"
      ],
      "metadata": {
        "id": "f0oUmtIaBDRj",
        "execution": {
          "iopub.status.busy": "2022-01-24T11:48:13.593679Z",
          "iopub.execute_input": "2022-01-24T11:48:13.594474Z",
          "iopub.status.idle": "2022-01-24T11:48:13.598596Z",
          "shell.execute_reply.started": "2022-01-24T11:48:13.594412Z",
          "shell.execute_reply": "2022-01-24T11:48:13.597472Z"
        },
        "trusted": true
      },
      "execution_count": 4,
      "outputs": []
    },
    {
      "cell_type": "code",
      "source": [
        "!pip install gdown"
      ],
      "metadata": {
        "execution": {
          "iopub.status.busy": "2022-01-24T11:48:13.599864Z",
          "iopub.execute_input": "2022-01-24T11:48:13.600878Z",
          "iopub.status.idle": "2022-01-24T11:48:31.990242Z",
          "shell.execute_reply.started": "2022-01-24T11:48:13.600827Z",
          "shell.execute_reply": "2022-01-24T11:48:31.989387Z"
        },
        "trusted": true,
        "colab": {
          "base_uri": "https://localhost:8080/"
        },
        "id": "aQdwuMZtDOZI",
        "outputId": "7b0dfd78-738f-4795-ead0-207610679b65"
      },
      "execution_count": 5,
      "outputs": [
        {
          "output_type": "stream",
          "name": "stdout",
          "text": [
            "Requirement already satisfied: gdown in /usr/local/lib/python3.7/dist-packages (3.6.4)\n",
            "Requirement already satisfied: tqdm in /usr/local/lib/python3.7/dist-packages (from gdown) (4.62.3)\n",
            "Requirement already satisfied: six in /usr/local/lib/python3.7/dist-packages (from gdown) (1.15.0)\n",
            "Requirement already satisfied: requests in /usr/local/lib/python3.7/dist-packages (from gdown) (2.23.0)\n",
            "Requirement already satisfied: urllib3!=1.25.0,!=1.25.1,<1.26,>=1.21.1 in /usr/local/lib/python3.7/dist-packages (from requests->gdown) (1.24.3)\n",
            "Requirement already satisfied: chardet<4,>=3.0.2 in /usr/local/lib/python3.7/dist-packages (from requests->gdown) (3.0.4)\n",
            "Requirement already satisfied: idna<3,>=2.5 in /usr/local/lib/python3.7/dist-packages (from requests->gdown) (2.10)\n",
            "Requirement already satisfied: certifi>=2017.4.17 in /usr/local/lib/python3.7/dist-packages (from requests->gdown) (2021.10.8)\n"
          ]
        }
      ]
    },
    {
      "cell_type": "code",
      "source": [
        "import gdown\n",
        "\n",
        "#download files\n",
        "!gdown https://drive.google.com/uc?id=1VUcPrjUA473i10ihkKPTGbhB3_sUnVVI\n",
        "!gdown https://drive.google.com/uc?id=1_NWiNRquSpErumYplrpuASiN1RhENM9u\n",
        "    \n",
        "!gdown https://drive.google.com/uc?id=1OZ2_2l1Up_0u8xg_0OixmbnrlLF7rc2p\n",
        "!gdown https://drive.google.com/uc?id=1Ll8QIGngB_nssI5vIuaRrj0emA9cSdtN\n",
        "    \n",
        "!gdown https://drive.google.com/uc?id=1I1lQVGC8yYfKw9VU0ifclrvlIZPXl7xf\n",
        "    \n",
        "!gdown https://drive.google.com/uc?id=1GhrM_L-Gvaq-5gnqy4Rk4AHd4mFTdpV4\n",
        "!gdown https://drive.google.com/uc?id=1sfPjo0Gy2EcDVI3icdHf1vM-59Xs-tzR\n",
        "    \n",
        "    \n",
        "# noms fitxers       \n",
        "train_e = 'train.e'\n",
        "train_f = 'train.f'\n",
        "\n",
        "test_e = 'test.e'\n",
        "test_f = 'test.f'\n",
        "\n",
        "test_wa = 'test.wa.nonullalign'\n",
        "\n",
        "wa_eval = 'wa_eval.pl'\n",
        "wa_check = 'wa_check.pl'\n",
        "\n",
        "!ls"
      ],
      "metadata": {
        "execution": {
          "iopub.status.busy": "2022-01-24T11:48:31.991927Z",
          "iopub.execute_input": "2022-01-24T11:48:31.992211Z",
          "iopub.status.idle": "2022-01-24T11:48:52.819040Z",
          "shell.execute_reply.started": "2022-01-24T11:48:31.992168Z",
          "shell.execute_reply": "2022-01-24T11:48:52.818189Z"
        },
        "trusted": true,
        "colab": {
          "base_uri": "https://localhost:8080/"
        },
        "id": "CszlL86wDOZJ",
        "outputId": "731525cd-f1b2-4fe8-fb6d-b5f22040812e"
      },
      "execution_count": 6,
      "outputs": [
        {
          "output_type": "stream",
          "name": "stdout",
          "text": [
            "Downloading...\n",
            "From: https://drive.google.com/uc?id=1VUcPrjUA473i10ihkKPTGbhB3_sUnVVI\n",
            "To: /content/training.e\n",
            "100% 107M/107M [00:00<00:00, 161MB/s]  \n",
            "Downloading...\n",
            "From: https://drive.google.com/uc?id=1_NWiNRquSpErumYplrpuASiN1RhENM9u\n",
            "To: /content/training.f\n",
            "100% 129M/129M [00:01<00:00, 120MB/s]\n",
            "Downloading...\n",
            "From: https://drive.google.com/uc?id=1OZ2_2l1Up_0u8xg_0OixmbnrlLF7rc2p\n",
            "To: /content/test.e\n",
            "100% 45.4k/45.4k [00:00<00:00, 76.1MB/s]\n",
            "Downloading...\n",
            "From: https://drive.google.com/uc?id=1Ll8QIGngB_nssI5vIuaRrj0emA9cSdtN\n",
            "To: /content/test.f\n",
            "100% 51.2k/51.2k [00:00<00:00, 80.8MB/s]\n",
            "Downloading...\n",
            "From: https://drive.google.com/uc?id=1I1lQVGC8yYfKw9VU0ifclrvlIZPXl7xf\n",
            "To: /content/test.wa.nonullalign\n",
            "100% 209k/209k [00:00<00:00, 59.0MB/s]\n",
            "Downloading...\n",
            "From: https://drive.google.com/uc?id=1GhrM_L-Gvaq-5gnqy4Rk4AHd4mFTdpV4\n",
            "To: /content/wa_check_align.pl\n",
            "100% 3.07k/3.07k [00:00<00:00, 4.74MB/s]\n",
            "Downloading...\n",
            "From: https://drive.google.com/uc?id=1sfPjo0Gy2EcDVI3icdHf1vM-59Xs-tzR\n",
            "To: /content/wa_eval_align.pl\n",
            "100% 6.55k/6.55k [00:00<00:00, 9.61MB/s]\n",
            "requirements.txt  test.f\t       training.f\n",
            "sample_data\t  test.wa.nonullalign  wa_check_align.pl\n",
            "test.e\t\t  training.e\t       wa_eval_align.pl\n"
          ]
        }
      ]
    },
    {
      "cell_type": "code",
      "source": [
        "#!df -h\n",
        "#!lscpu |grep 'Model name'\n",
        "#!cat /proc/cpuinfo\n",
        "#!cat /proc/meminfo\n",
        "!nvidia-smi -L\n",
        "#!nvidia-smi"
      ],
      "metadata": {
        "id": "jYPtISh80L9A",
        "outputId": "d2bece5f-6503-4ed6-9366-c67d2e89eba3",
        "execution": {
          "iopub.status.busy": "2022-01-24T11:48:52.821113Z",
          "iopub.execute_input": "2022-01-24T11:48:52.821408Z",
          "iopub.status.idle": "2022-01-24T11:48:53.506098Z",
          "shell.execute_reply.started": "2022-01-24T11:48:52.821368Z",
          "shell.execute_reply": "2022-01-24T11:48:53.505218Z"
        },
        "trusted": true,
        "colab": {
          "base_uri": "https://localhost:8080/"
        }
      },
      "execution_count": 7,
      "outputs": [
        {
          "output_type": "stream",
          "name": "stdout",
          "text": [
            "GPU 0: Tesla T4 (UUID: GPU-873967b1-b207-72c7-611e-9e30c3ff7f59)\n"
          ]
        }
      ]
    },
    {
      "cell_type": "code",
      "source": [
        "english_file = 'training.e' \n",
        "french_file = 'training.f'\n",
        "english_text = open(english_file, encoding='utf8').read().split('\\n')\n",
        "french_text = open(french_file, encoding='utf8').read().split('\\n')"
      ],
      "metadata": {
        "id": "Mm2cxSg8CaxX",
        "execution": {
          "iopub.status.busy": "2022-01-24T11:48:53.507957Z",
          "iopub.execute_input": "2022-01-24T11:48:53.508253Z",
          "iopub.status.idle": "2022-01-24T11:48:54.534614Z",
          "shell.execute_reply.started": "2022-01-24T11:48:53.508212Z",
          "shell.execute_reply": "2022-01-24T11:48:54.533844Z"
        },
        "trusted": true
      },
      "execution_count": 8,
      "outputs": []
    },
    {
      "cell_type": "markdown",
      "source": [
        "# DATA ANALISIS"
      ],
      "metadata": {
        "id": "vPi6SvfgDM7I"
      }
    },
    {
      "cell_type": "code",
      "source": [
        "data_size = len(french_text)\n",
        "print(data_size)\n",
        "print(french_text[0:10])"
      ],
      "metadata": {
        "id": "vm5lSjh2Db8F",
        "execution": {
          "iopub.status.busy": "2022-01-24T11:48:54.535894Z",
          "iopub.execute_input": "2022-01-24T11:48:54.536147Z",
          "iopub.status.idle": "2022-01-24T11:48:54.542110Z",
          "shell.execute_reply.started": "2022-01-24T11:48:54.536114Z",
          "shell.execute_reply": "2022-01-24T11:48:54.541339Z"
        },
        "trusted": true,
        "colab": {
          "base_uri": "https://localhost:8080/"
        },
        "outputId": "63bc2e32-9f14-408a-9f1c-3abee9e27140"
      },
      "execution_count": 9,
      "outputs": [
        {
          "output_type": "stream",
          "name": "stdout",
          "text": [
            "1130105\n",
            "['hansard RÉVISÉ * NUMÉRO 1 ', 'le lundi 22 septembre 1997 ', 'PREMIÈRE SESSION - 36E LÉGISLATURE ', 'ouverture de le Parlement ', 'le greffier de la Chambre ', 'ÉLECTION DU PRÉSIDENT ', 'le président de élection (M. Caccia ) ', 'suspension de la séance ', 'le président de élection (M. Caccia ) ', 'reprise de la séance ']\n"
          ]
        }
      ]
    },
    {
      "cell_type": "code",
      "source": [
        "raw_data = {'English': [line for line in english_text[0:data_size]],\n",
        "            'French': [line for line in french_text[0:data_size]]}\n",
        "\n",
        "df = pd.DataFrame(raw_data, columns= ['English', 'French'])"
      ],
      "metadata": {
        "id": "mpEh5mRWDWTW",
        "execution": {
          "iopub.status.busy": "2022-01-24T11:48:54.546372Z",
          "iopub.execute_input": "2022-01-24T11:48:54.547691Z",
          "iopub.status.idle": "2022-01-24T11:48:55.137049Z",
          "shell.execute_reply.started": "2022-01-24T11:48:54.547652Z",
          "shell.execute_reply": "2022-01-24T11:48:55.136072Z"
        },
        "trusted": true
      },
      "execution_count": 10,
      "outputs": []
    },
    {
      "cell_type": "markdown",
      "source": [
        "Download french and english tokenizers"
      ],
      "metadata": {
        "id": "KreePe66KNNI"
      }
    },
    {
      "cell_type": "code",
      "source": [
        "import spacy.cli\n",
        "\n",
        "spacy.cli.download(\"fr_core_news_sm\")\n",
        "spacy.cli.download(\"en_core_web_sm\")\n",
        "\n",
        "import fr_core_news_sm\n",
        "import en_core_web_sm\n",
        "\n",
        "spacy_fr = spacy.load('fr_core_news_sm')\n",
        "spacy_en = spacy.load('en_core_web_sm')"
      ],
      "metadata": {
        "id": "tj0Ho64zKNNJ",
        "outputId": "c2d45bf0-0019-4054-ba5c-2b8a3d7dab9e",
        "execution": {
          "iopub.status.busy": "2022-01-24T11:48:55.138777Z",
          "iopub.execute_input": "2022-01-24T11:48:55.139178Z",
          "iopub.status.idle": "2022-01-24T11:49:20.563637Z",
          "shell.execute_reply.started": "2022-01-24T11:48:55.139114Z",
          "shell.execute_reply": "2022-01-24T11:49:20.562852Z"
        },
        "trusted": true,
        "colab": {
          "base_uri": "https://localhost:8080/"
        }
      },
      "execution_count": 11,
      "outputs": [
        {
          "output_type": "stream",
          "name": "stdout",
          "text": [
            "\u001b[38;5;2m✔ Download and installation successful\u001b[0m\n",
            "You can now load the model via spacy.load('fr_core_news_sm')\n",
            "\u001b[38;5;2m✔ Download and installation successful\u001b[0m\n",
            "You can now load the model via spacy.load('en_core_web_sm')\n"
          ]
        }
      ]
    },
    {
      "cell_type": "code",
      "source": [
        "def tokenize_fr(text):\n",
        "    \"\"\"\n",
        "    Tokenizes French text from a string into a list of strings\n",
        "    \"\"\"\n",
        "    return [tok.text for tok in spacy_fr.tokenizer(text)]\n",
        "\n",
        "def tokenize_en(text):\n",
        "    \"\"\"\n",
        "    Tokenizes English text from a string into a list of strings\n",
        "    \"\"\"\n",
        "    return [tok.text for tok in spacy_en.tokenizer(text)]"
      ],
      "metadata": {
        "id": "7LI0Cg2LKNNJ",
        "execution": {
          "iopub.status.busy": "2022-01-24T11:49:20.565080Z",
          "iopub.execute_input": "2022-01-24T11:49:20.565325Z",
          "iopub.status.idle": "2022-01-24T11:49:20.573082Z",
          "shell.execute_reply.started": "2022-01-24T11:49:20.565288Z",
          "shell.execute_reply": "2022-01-24T11:49:20.572287Z"
        },
        "trusted": true
      },
      "execution_count": 12,
      "outputs": []
    },
    {
      "cell_type": "code",
      "source": [
        "df['English_lower'] = df['English'].str.lower()\n",
        "df['French_lower'] = df['French'].str.lower()"
      ],
      "metadata": {
        "id": "KRtzBO41zS_i",
        "execution": {
          "iopub.status.busy": "2022-01-24T11:49:20.576158Z",
          "iopub.execute_input": "2022-01-24T11:49:20.576396Z",
          "iopub.status.idle": "2022-01-24T11:49:22.435011Z",
          "shell.execute_reply.started": "2022-01-24T11:49:20.576370Z",
          "shell.execute_reply": "2022-01-24T11:49:22.434160Z"
        },
        "trusted": true
      },
      "execution_count": 13,
      "outputs": []
    },
    {
      "cell_type": "code",
      "source": [
        "df['English_token'] = df['English_lower'].transform(tokenize_en)\n",
        "\n",
        "df['French_token'] = df['French_lower'].transform(tokenize_fr)\n",
        "\n"
      ],
      "metadata": {
        "id": "3WtwntMEzahY",
        "execution": {
          "iopub.status.busy": "2022-01-24T11:49:22.436544Z",
          "iopub.execute_input": "2022-01-24T11:49:22.436793Z",
          "iopub.status.idle": "2022-01-24T11:51:01.814598Z",
          "shell.execute_reply.started": "2022-01-24T11:49:22.436759Z",
          "shell.execute_reply": "2022-01-24T11:51:01.813702Z"
        },
        "trusted": true
      },
      "execution_count": 14,
      "outputs": []
    },
    {
      "cell_type": "code",
      "source": [
        "df['English_token_len'] = df['English_token'].apply(len)\n",
        "df['French_token_len'] = df['French_token'].apply(len)"
      ],
      "metadata": {
        "id": "_e0ETxMU0wuo",
        "execution": {
          "iopub.status.busy": "2022-01-24T11:51:01.816273Z",
          "iopub.execute_input": "2022-01-24T11:51:01.816701Z",
          "iopub.status.idle": "2022-01-24T11:51:02.745912Z",
          "shell.execute_reply.started": "2022-01-24T11:51:01.816653Z",
          "shell.execute_reply": "2022-01-24T11:51:02.745152Z"
        },
        "trusted": true
      },
      "execution_count": 15,
      "outputs": []
    },
    {
      "cell_type": "code",
      "source": [
        "from collections import Counter\n",
        "\n",
        "print(len(Counter(df['English'])))\n",
        "print(len(Counter(df['French'])))\n",
        "print(len(Counter(df['English_lower'])))\n",
        "print(len(Counter(df['French_lower'])))\n",
        "en_total_vocab= Counter(df['English_token'].explode())\n",
        "fr_total_vocab = Counter(df['French_token'].explode())\n",
        "print(len(en_total_vocab))\n",
        "print(len(fr_total_vocab))"
      ],
      "metadata": {
        "id": "H7Xpx81ll6wa",
        "outputId": "8d7fe459-d15f-4f2e-848c-90016bb16094",
        "execution": {
          "iopub.status.busy": "2022-01-24T11:51:02.747111Z",
          "iopub.execute_input": "2022-01-24T11:51:02.747461Z",
          "iopub.status.idle": "2022-01-24T11:51:16.666864Z",
          "shell.execute_reply.started": "2022-01-24T11:51:02.747411Z",
          "shell.execute_reply": "2022-01-24T11:51:16.666117Z"
        },
        "trusted": true,
        "colab": {
          "base_uri": "https://localhost:8080/"
        }
      },
      "execution_count": 16,
      "outputs": [
        {
          "output_type": "stream",
          "name": "stdout",
          "text": [
            "820521\n",
            "822364\n",
            "818885\n",
            "821011\n",
            "57605\n",
            "78391\n"
          ]
        }
      ]
    },
    {
      "cell_type": "code",
      "source": [
        "print(df.describe())"
      ],
      "metadata": {
        "id": "KQBeuAZzWoct",
        "outputId": "5668635f-33e5-4eb5-9033-6aef11fad333",
        "execution": {
          "iopub.status.busy": "2022-01-24T11:51:16.668043Z",
          "iopub.execute_input": "2022-01-24T11:51:16.668292Z",
          "iopub.status.idle": "2022-01-24T11:51:17.157191Z",
          "shell.execute_reply.started": "2022-01-24T11:51:16.668257Z",
          "shell.execute_reply": "2022-01-24T11:51:17.156478Z"
        },
        "trusted": true,
        "colab": {
          "base_uri": "https://localhost:8080/"
        }
      },
      "execution_count": 17,
      "outputs": [
        {
          "output_type": "stream",
          "name": "stdout",
          "text": [
            "       English_token_len  French_token_len\n",
            "count       1.130105e+06      1.130105e+06\n",
            "mean        1.794015e+01      2.096148e+01\n",
            "std         1.349033e+01      1.636734e+01\n",
            "min         0.000000e+00      0.000000e+00\n",
            "25%         8.000000e+00      8.000000e+00\n",
            "50%         1.500000e+01      1.700000e+01\n",
            "75%         2.500000e+01      2.900000e+01\n",
            "max         8.410000e+02      9.970000e+02\n"
          ]
        }
      ]
    },
    {
      "cell_type": "code",
      "source": [
        "df.drop_duplicates(subset=['English_lower', 'French_lower'],inplace=True)"
      ],
      "metadata": {
        "id": "usDrQCSxIXTL",
        "execution": {
          "iopub.status.busy": "2022-01-24T11:51:17.158581Z",
          "iopub.execute_input": "2022-01-24T11:51:17.158824Z",
          "iopub.status.idle": "2022-01-24T11:51:18.730776Z",
          "shell.execute_reply.started": "2022-01-24T11:51:17.158790Z",
          "shell.execute_reply": "2022-01-24T11:51:18.730012Z"
        },
        "trusted": true
      },
      "execution_count": 18,
      "outputs": []
    },
    {
      "cell_type": "code",
      "source": [
        "len(df)"
      ],
      "metadata": {
        "id": "XqdFRSqfJOJJ",
        "outputId": "64bbe07c-724c-47e7-f069-84afbb0008b4",
        "execution": {
          "iopub.status.busy": "2022-01-24T11:51:18.732192Z",
          "iopub.execute_input": "2022-01-24T11:51:18.732443Z",
          "iopub.status.idle": "2022-01-24T11:51:18.742151Z",
          "shell.execute_reply.started": "2022-01-24T11:51:18.732394Z",
          "shell.execute_reply": "2022-01-24T11:51:18.741388Z"
        },
        "trusted": true,
        "colab": {
          "base_uri": "https://localhost:8080/"
        }
      },
      "execution_count": 19,
      "outputs": [
        {
          "output_type": "execute_result",
          "data": {
            "text/plain": [
              "835272"
            ]
          },
          "metadata": {},
          "execution_count": 19
        }
      ]
    },
    {
      "cell_type": "code",
      "source": [
        "print(len(Counter(df['English'])))\n",
        "print(len(Counter(df['French'])))"
      ],
      "metadata": {
        "id": "6mga4U8lA1lm",
        "outputId": "77d2d854-97ff-4b4e-b1ef-7cdf415b5ba8",
        "execution": {
          "iopub.status.busy": "2022-01-24T11:51:18.743591Z",
          "iopub.execute_input": "2022-01-24T11:51:18.744036Z",
          "iopub.status.idle": "2022-01-24T11:51:19.443177Z",
          "shell.execute_reply.started": "2022-01-24T11:51:18.743997Z",
          "shell.execute_reply": "2022-01-24T11:51:19.442453Z"
        },
        "trusted": true,
        "colab": {
          "base_uri": "https://localhost:8080/"
        }
      },
      "execution_count": 20,
      "outputs": [
        {
          "output_type": "stream",
          "name": "stdout",
          "text": [
            "819646\n",
            "821232\n"
          ]
        }
      ]
    },
    {
      "cell_type": "code",
      "source": [
        "%matplotlib inline\n",
        "df['French_token'].explode().value_counts()[:30].plot(kind='bar')"
      ],
      "metadata": {
        "id": "GjzaBlI-X3mc",
        "outputId": "b59d1969-7957-4028-c8b4-dff168ca65e5",
        "execution": {
          "iopub.status.busy": "2022-01-24T11:51:19.450195Z",
          "iopub.execute_input": "2022-01-24T11:51:19.450641Z",
          "iopub.status.idle": "2022-01-24T11:51:24.565702Z",
          "shell.execute_reply.started": "2022-01-24T11:51:19.450602Z",
          "shell.execute_reply": "2022-01-24T11:51:24.565001Z"
        },
        "trusted": true,
        "colab": {
          "base_uri": "https://localhost:8080/",
          "height": 357
        }
      },
      "execution_count": 22,
      "outputs": [
        {
          "output_type": "execute_result",
          "data": {
            "text/plain": [
              "<matplotlib.axes._subplots.AxesSubplot at 0x7f68222e8fd0>"
            ]
          },
          "metadata": {},
          "execution_count": 22
        },
        {
          "output_type": "display_data",
          "data": {
            "image/png": "[encoded data removed]",
            "text/plain": [
              "<Figure size 432x288 with 1 Axes>"
            ]
          },
          "metadata": {
            "needs_background": "light"
          }
        }
      ]
    },
    {
      "cell_type": "code",
      "source": [
        "%matplotlib inline\n",
        "df['English_token'].explode().value_counts()[:30].plot(kind='bar', label='')"
      ],
      "metadata": {
        "id": "EYbJkOPKnPjZ",
        "outputId": "ce299926-245c-48ee-ffb0-695da9663813",
        "execution": {
          "iopub.status.busy": "2022-01-24T11:51:24.566999Z",
          "iopub.execute_input": "2022-01-24T11:51:24.567242Z",
          "iopub.status.idle": "2022-01-24T11:51:28.235858Z",
          "shell.execute_reply.started": "2022-01-24T11:51:24.567205Z",
          "shell.execute_reply": "2022-01-24T11:51:28.235179Z"
        },
        "trusted": true,
        "colab": {
          "base_uri": "https://localhost:8080/",
          "height": 344
        }
      },
      "execution_count": 23,
      "outputs": [
        {
          "output_type": "execute_result",
          "data": {
            "text/plain": [
              "<matplotlib.axes._subplots.AxesSubplot at 0x7f6822612850>"
            ]
          },
          "metadata": {},
          "execution_count": 23
        },
        {
          "output_type": "display_data",
          "data": {
            "image/png": "[encoded data removed]",
            "text/plain": [
              "<Figure size 432x288 with 1 Axes>"
            ]
          },
          "metadata": {
            "needs_background": "light"
          }
        }
      ]
    },
    {
      "cell_type": "code",
      "source": [
        "print(df.describe())"
      ],
      "metadata": {
        "id": "GTCB1Sak0w9d",
        "outputId": "6910851b-b265-432a-a7c2-1ce4248ddec3",
        "execution": {
          "iopub.status.busy": "2022-01-24T11:51:28.237078Z",
          "iopub.execute_input": "2022-01-24T11:51:28.237323Z",
          "iopub.status.idle": "2022-01-24T11:51:28.297924Z",
          "shell.execute_reply.started": "2022-01-24T11:51:28.237287Z",
          "shell.execute_reply": "2022-01-24T11:51:28.297110Z"
        },
        "trusted": true,
        "colab": {
          "base_uri": "https://localhost:8080/"
        }
      },
      "execution_count": 24,
      "outputs": [
        {
          "output_type": "stream",
          "name": "stdout",
          "text": [
            "       English_token_len  French_token_len\n",
            "count      835272.000000     835272.000000\n",
            "mean           21.689633         25.571808\n",
            "std            13.209176         16.054031\n",
            "min             0.000000          0.000000\n",
            "25%            12.000000         14.000000\n",
            "50%            19.000000         22.000000\n",
            "75%            28.000000         34.000000\n",
            "max           841.000000        997.000000\n"
          ]
        }
      ]
    },
    {
      "cell_type": "code",
      "source": [
        "df.plot(kind='hist',\n",
        "        alpha=1,\n",
        "        bins=range(0, 200, 10),\n",
        "        title='Histogram Of Tokens counts by sentece',\n",
        "        rot=1,\n",
        "        grid=True,\n",
        "        figsize=(12,8),\n",
        "        fontsize=15, \n",
        "        color=['#A0E8AF', '#FFCF56'])\n",
        "plt.xlabel('Tokens count')\n",
        "plt.ylabel(\"Number Of sentences\");\n",
        "\n"
      ],
      "metadata": {
        "id": "KQzCVfrK1dKI",
        "outputId": "b7470239-0306-441f-97a2-d1b66c9bcebf",
        "execution": {
          "iopub.status.busy": "2022-01-24T11:51:28.299143Z",
          "iopub.execute_input": "2022-01-24T11:51:28.299394Z",
          "iopub.status.idle": "2022-01-24T11:51:29.219355Z",
          "shell.execute_reply.started": "2022-01-24T11:51:28.299356Z",
          "shell.execute_reply": "2022-01-24T11:51:29.218659Z"
        },
        "trusted": true,
        "colab": {
          "base_uri": "https://localhost:8080/",
          "height": 518
        }
      },
      "execution_count": 25,
      "outputs": [
        {
          "output_type": "display_data",
          "data": {
            "image/png": "[encoded data removed]",
            "text/plain": [
              "<Figure size 864x576 with 1 Axes>"
            ]
          },
          "metadata": {
            "needs_background": "light"
          }
        }
      ]
    },
    {
      "cell_type": "code",
      "source": [
        "df.plot(kind='hist',\n",
        "        alpha=1,\n",
        "        bins=range(200, 1000, 10),\n",
        "        title='Histogram of tokens count by sentence',\n",
        "        rot=1,\n",
        "        grid=True,\n",
        "        figsize=(12,8),\n",
        "        fontsize=15, \n",
        "        color=['#A0E8AF', '#FFCF56'])\n",
        "plt.xlabel('Tokens count')\n",
        "plt.ylabel(\"Number of sentences\");"
      ],
      "metadata": {
        "id": "70upN54N23mo",
        "outputId": "c73c8609-54f7-4b98-8a2e-1f696a3f4996",
        "execution": {
          "iopub.status.busy": "2022-01-24T11:51:29.220864Z",
          "iopub.execute_input": "2022-01-24T11:51:29.221320Z",
          "iopub.status.idle": "2022-01-24T11:51:30.437713Z",
          "shell.execute_reply.started": "2022-01-24T11:51:29.221282Z",
          "shell.execute_reply": "2022-01-24T11:51:30.436714Z"
        },
        "trusted": true,
        "colab": {
          "base_uri": "https://localhost:8080/",
          "height": 518
        }
      },
      "execution_count": 26,
      "outputs": [
        {
          "output_type": "display_data",
          "data": {
            "image/png": "[encoded data removed]",
            "text/plain": [
              "<Figure size 864x576 with 1 Axes>"
            ]
          },
          "metadata": {
            "needs_background": "light"
          }
        }
      ]
    },
    {
      "cell_type": "code",
      "source": [
        "df['token_diff'] = df['English_token_len'] - df['French_token_len']\n"
      ],
      "metadata": {
        "id": "f4qJw6miW11D",
        "execution": {
          "iopub.status.busy": "2022-01-24T11:51:30.439185Z",
          "iopub.execute_input": "2022-01-24T11:51:30.439461Z",
          "iopub.status.idle": "2022-01-24T11:51:30.448002Z",
          "shell.execute_reply.started": "2022-01-24T11:51:30.439410Z",
          "shell.execute_reply": "2022-01-24T11:51:30.447223Z"
        },
        "trusted": true
      },
      "execution_count": 27,
      "outputs": []
    },
    {
      "cell_type": "code",
      "source": [
        "df['token_diff'].plot(kind='hist',\n",
        "        alpha=1,\n",
        "        bins=range(-50, 50, 1),\n",
        "        title='Histogram of tokens count diff between sentences',\n",
        "        rot=1,\n",
        "        grid=True,\n",
        "        figsize=(12,8),\n",
        "        fontsize=15, \n",
        "        color=['#A0E8AF', '#FFCF56'])\n",
        "plt.xlabel('Tokens difference count')\n",
        "plt.ylabel(\"Number of tokens diff\");"
      ],
      "metadata": {
        "id": "M4VnpUDjh9Jl",
        "outputId": "973218e7-60e9-4b6e-a700-08662bf096a0",
        "execution": {
          "iopub.status.busy": "2022-01-24T11:51:30.455245Z",
          "iopub.execute_input": "2022-01-24T11:51:30.455480Z",
          "iopub.status.idle": "2022-01-24T11:51:30.890744Z",
          "shell.execute_reply.started": "2022-01-24T11:51:30.455448Z",
          "shell.execute_reply": "2022-01-24T11:51:30.890054Z"
        },
        "trusted": true,
        "colab": {
          "base_uri": "https://localhost:8080/",
          "height": 518
        }
      },
      "execution_count": 28,
      "outputs": [
        {
          "output_type": "display_data",
          "data": {
            "image/png": "[encoded data removed]",
            "text/plain": [
              "<Figure size 864x576 with 1 Axes>"
            ]
          },
          "metadata": {
            "needs_background": "light"
          }
        }
      ]
    },
    {
      "cell_type": "code",
      "source": [
        "max_token_len = 30\n",
        "max_token_diff = 5\n",
        "df_short = df[ (df['English_token_len'] < max_token_len) & (df['French_token_len'] < max_token_len) ]\n",
        "print(len(df))\n",
        "\n",
        "print(len(df_short))\n",
        "df_short = df_short[ (df_short['token_diff'] < max_token_diff) & (df_short['token_diff'] > - max_token_diff) ]\n",
        "print(len(df_short))"
      ],
      "metadata": {
        "id": "ddAGjyu23KHg",
        "outputId": "40b89739-f71f-4d3d-b076-05b993c83895",
        "execution": {
          "iopub.status.busy": "2022-01-24T11:51:30.891989Z",
          "iopub.execute_input": "2022-01-24T11:51:30.892320Z",
          "iopub.status.idle": "2022-01-24T11:51:31.113201Z",
          "shell.execute_reply.started": "2022-01-24T11:51:30.892280Z",
          "shell.execute_reply": "2022-01-24T11:51:31.112324Z"
        },
        "trusted": true,
        "colab": {
          "base_uri": "https://localhost:8080/"
        }
      },
      "execution_count": 29,
      "outputs": [
        {
          "output_type": "stream",
          "name": "stdout",
          "text": [
            "835272\n",
            "553700\n",
            "418388\n"
          ]
        }
      ]
    },
    {
      "cell_type": "code",
      "source": [
        "df_short[['English_token_len','French_token_len']].plot(kind='hist',\n",
        "        alpha=1,\n",
        "        bins=range(1, 50, 1),\n",
        "        title='Histogram Of Tokens counts by sentece',\n",
        "        rot=1,\n",
        "        grid=True,\n",
        "        figsize=(12,8),\n",
        "        fontsize=15, \n",
        "        color=['#A0E8AF', '#FFCF56'])\n",
        "plt.xlabel('Tokens count')\n",
        "plt.ylabel(\"Number Of sentences\");"
      ],
      "metadata": {
        "id": "msJxb4vd3KPs",
        "outputId": "230ce707-ca62-40ed-c4f3-f248c315ccb2",
        "execution": {
          "iopub.status.busy": "2022-01-24T11:51:31.114606Z",
          "iopub.execute_input": "2022-01-24T11:51:31.114940Z",
          "iopub.status.idle": "2022-01-24T11:51:31.816686Z",
          "shell.execute_reply.started": "2022-01-24T11:51:31.114904Z",
          "shell.execute_reply": "2022-01-24T11:51:31.815915Z"
        },
        "trusted": true,
        "colab": {
          "base_uri": "https://localhost:8080/",
          "height": 518
        }
      },
      "execution_count": 30,
      "outputs": [
        {
          "output_type": "display_data",
          "data": {
            "image/png": "[encoded data removed]",
            "text/plain": [
              "<Figure size 864x576 with 1 Axes>"
            ]
          },
          "metadata": {
            "needs_background": "light"
          }
        }
      ]
    },
    {
      "cell_type": "code",
      "source": [
        "#N = len(df_short)\n",
        "N = 100000\n",
        "df_small = df_short.iloc[:N,:]"
      ],
      "metadata": {
        "id": "bGrsFr6Ka5N4",
        "execution": {
          "iopub.status.busy": "2022-01-24T11:51:31.820692Z",
          "iopub.execute_input": "2022-01-24T11:51:31.822674Z",
          "iopub.status.idle": "2022-01-24T11:51:31.828527Z",
          "shell.execute_reply.started": "2022-01-24T11:51:31.822633Z",
          "shell.execute_reply": "2022-01-24T11:51:31.827883Z"
        },
        "trusted": true
      },
      "execution_count": 31,
      "outputs": []
    },
    {
      "cell_type": "code",
      "source": [
        "print(len(df))\n",
        "print(len(df_short))\n",
        "print(len(df_small))"
      ],
      "metadata": {
        "id": "IA2mooi9QWFe",
        "outputId": "8e3cd56d-4e1b-40cf-932c-25d04f45ee84",
        "execution": {
          "iopub.status.busy": "2022-01-24T11:51:31.832621Z",
          "iopub.execute_input": "2022-01-24T11:51:31.834569Z",
          "iopub.status.idle": "2022-01-24T11:51:31.843255Z",
          "shell.execute_reply.started": "2022-01-24T11:51:31.834526Z",
          "shell.execute_reply": "2022-01-24T11:51:31.842635Z"
        },
        "trusted": true,
        "colab": {
          "base_uri": "https://localhost:8080/"
        }
      },
      "execution_count": 32,
      "outputs": [
        {
          "output_type": "stream",
          "name": "stdout",
          "text": [
            "835272\n",
            "418388\n",
            "100000\n"
          ]
        }
      ]
    },
    {
      "cell_type": "code",
      "source": [
        "print(len(df_small['English_token'].explode().value_counts()))\n",
        "print(len(df_small['French_token'].explode().value_counts()))"
      ],
      "metadata": {
        "id": "McTX-7qZbBMG",
        "outputId": "4167a64e-5c0b-49d9-cb03-66a685b2ebc8",
        "execution": {
          "iopub.status.busy": "2022-01-24T11:51:31.844800Z",
          "iopub.execute_input": "2022-01-24T11:51:31.846562Z",
          "iopub.status.idle": "2022-01-24T11:51:32.502555Z",
          "shell.execute_reply.started": "2022-01-24T11:51:31.846521Z",
          "shell.execute_reply": "2022-01-24T11:51:32.501338Z"
        },
        "trusted": true,
        "colab": {
          "base_uri": "https://localhost:8080/"
        }
      },
      "execution_count": 33,
      "outputs": [
        {
          "output_type": "stream",
          "name": "stdout",
          "text": [
            "21481\n",
            "29183\n"
          ]
        }
      ]
    },
    {
      "cell_type": "markdown",
      "source": [
        "#TEST DATA"
      ],
      "metadata": {
        "id": "5pjkTH7mlX50"
      }
    },
    {
      "cell_type": "code",
      "source": [
        "english_test_file = 'test.e'\n",
        "french_test_file = 'test.f'\n",
        "english_test_text = open(english_test_file, encoding='utf8').read().split('\\n')\n",
        "french_test_text = open(french_test_file, encoding='utf8').read().split('\\n')\n",
        "\n",
        "print(len(english_test_text))\n",
        "print(len(french_test_text))\n"
      ],
      "metadata": {
        "id": "PKmoAB4IlXWa",
        "outputId": "56ad6a68-611b-4271-ab98-d0f6bd358a0e",
        "execution": {
          "iopub.status.busy": "2022-01-24T11:51:32.503823Z",
          "iopub.execute_input": "2022-01-24T11:51:32.504160Z",
          "iopub.status.idle": "2022-01-24T11:51:32.513455Z",
          "shell.execute_reply.started": "2022-01-24T11:51:32.504120Z",
          "shell.execute_reply": "2022-01-24T11:51:32.512607Z"
        },
        "trusted": true,
        "colab": {
          "base_uri": "https://localhost:8080/"
        }
      },
      "execution_count": 34,
      "outputs": [
        {
          "output_type": "stream",
          "name": "stdout",
          "text": [
            "447\n",
            "447\n"
          ]
        }
      ]
    },
    {
      "cell_type": "code",
      "source": [
        "\n",
        "#clean gold standard data\n",
        "import re\n",
        "\n",
        "#parse_data = lambda x: re.search(\">(.*?)</s\", x).group(1) if (re.search(\">(.*?)</s\", x))\n",
        "gold_test_raw_data = {\n",
        "            #'Snum': [re.search(\"<s snum=(.\\d*?)>\", line).group(1) for line in english_test_text[:]],\n",
        "            'English': [re.search(\"<s snum=\\d*> (.+?)( <\\/s>)\", line).group(1) for line in english_test_text[:]],\n",
        "            'French': [re.search(\"<s snum=\\d*> (.+?)( <\\/s>)\", line).group(1) for line in french_test_text[:]]}\n",
        "\n",
        "gold_test= pd.DataFrame(gold_test_raw_data, columns= ['English', 'French'])\n",
        "\n",
        "\n",
        "gold_test['English_lower'] = gold_test['English'].str.lower()\n",
        "gold_test['French_lower'] = gold_test['French'].str.lower()\n",
        "gold_test['English_token'] = gold_test['English_lower'].str.split()\n",
        "gold_test['French_token'] = gold_test['French_lower'].str.split()\n",
        "\n",
        "gold_test['English_token_len'] = gold_test['English_token'].apply(len)\n",
        "gold_test['French_token_len'] = gold_test['French_token'].apply(len)\n",
        "gold_test['token_diff'] = gold_test['English_token_len'] - gold_test['French_token_len']\n",
        "\n",
        "gold_test.head(10)"
      ],
      "metadata": {
        "id": "qcsfsdNilXZo",
        "outputId": "ece6dff5-1813-400f-b294-0e348b10ab1c",
        "execution": {
          "iopub.status.busy": "2022-01-24T11:51:32.514880Z",
          "iopub.execute_input": "2022-01-24T11:51:32.515461Z",
          "iopub.status.idle": "2022-01-24T11:51:32.563013Z",
          "shell.execute_reply.started": "2022-01-24T11:51:32.515409Z",
          "shell.execute_reply": "2022-01-24T11:51:32.562324Z"
        },
        "trusted": true,
        "colab": {
          "base_uri": "https://localhost:8080/",
          "height": 460
        }
      },
      "execution_count": 35,
      "outputs": [
        {
          "output_type": "execute_result",
          "data": {
            "text/html": [
              "\n",
              "  <div id=\"df-b6cbdae5-4fb6-4ab6-893c-f4dd92542607\">\n",
              "    <div class=\"colab-df-container\">\n",
              "      <div>\n",
              "<style scoped>\n",
              "    .dataframe tbody tr th:only-of-type {\n",
              "        vertical-align: middle;\n",
              "    }\n",
              "\n",
              "    .dataframe tbody tr th {\n",
              "        vertical-align: top;\n",
              "    }\n",
              "\n",
              "    .dataframe thead th {\n",
              "        text-align: right;\n",
              "    }\n",
              "</style>\n",
              "<table border=\"1\" class=\"dataframe\">\n",
              "  <thead>\n",
              "    <tr style=\"text-align: right;\">\n",
              "      <th></th>\n",
              "      <th>English</th>\n",
              "      <th>French</th>\n",
              "      <th>English_lower</th>\n",
              "      <th>French_lower</th>\n",
              "      <th>English_token</th>\n",
              "      <th>French_token</th>\n",
              "      <th>English_token_len</th>\n",
              "      <th>French_token_len</th>\n",
              "      <th>token_diff</th>\n",
              "    </tr>\n",
              "  </thead>\n",
              "  <tbody>\n",
              "    <tr>\n",
              "      <th>0</th>\n",
              "      <td>2 .</td>\n",
              "      <td>2 .</td>\n",
              "      <td>2 .</td>\n",
              "      <td>2 .</td>\n",
              "      <td>[2, .]</td>\n",
              "      <td>[2, .]</td>\n",
              "      <td>2</td>\n",
              "      <td>2</td>\n",
              "      <td>0</td>\n",
              "    </tr>\n",
              "    <tr>\n",
              "      <th>1</th>\n",
              "      <td>2 .</td>\n",
              "      <td>2 .</td>\n",
              "      <td>2 .</td>\n",
              "      <td>2 .</td>\n",
              "      <td>[2, .]</td>\n",
              "      <td>[2, .]</td>\n",
              "      <td>2</td>\n",
              "      <td>2</td>\n",
              "      <td>0</td>\n",
              "    </tr>\n",
              "    <tr>\n",
              "      <th>2</th>\n",
              "      <td>oh , oh !</td>\n",
              "      <td>oh , oh !</td>\n",
              "      <td>oh , oh !</td>\n",
              "      <td>oh , oh !</td>\n",
              "      <td>[oh, ,, oh, !]</td>\n",
              "      <td>[oh, ,, oh, !]</td>\n",
              "      <td>4</td>\n",
              "      <td>4</td>\n",
              "      <td>0</td>\n",
              "    </tr>\n",
              "    <tr>\n",
              "      <th>3</th>\n",
              "      <td>oh , oh !</td>\n",
              "      <td>oh , oh !</td>\n",
              "      <td>oh , oh !</td>\n",
              "      <td>oh , oh !</td>\n",
              "      <td>[oh, ,, oh, !]</td>\n",
              "      <td>[oh, ,, oh, !]</td>\n",
              "      <td>4</td>\n",
              "      <td>4</td>\n",
              "      <td>0</td>\n",
              "    </tr>\n",
              "    <tr>\n",
              "      <th>4</th>\n",
              "      <td>oh , oh !</td>\n",
              "      <td>oh , oh !</td>\n",
              "      <td>oh , oh !</td>\n",
              "      <td>oh , oh !</td>\n",
              "      <td>[oh, ,, oh, !]</td>\n",
              "      <td>[oh, ,, oh, !]</td>\n",
              "      <td>4</td>\n",
              "      <td>4</td>\n",
              "      <td>0</td>\n",
              "    </tr>\n",
              "    <tr>\n",
              "      <th>5</th>\n",
              "      <td>let us remember , Mr. Speaker , that these seg...</td>\n",
              "      <td>souvenons - nous , monsieur le Orateur , que c...</td>\n",
              "      <td>let us remember , mr. speaker , that these seg...</td>\n",
              "      <td>souvenons - nous , monsieur le orateur , que c...</td>\n",
              "      <td>[let, us, remember, ,, mr., speaker, ,, that, ...</td>\n",
              "      <td>[souvenons, -, nous, ,, monsieur, le, orateur,...</td>\n",
              "      <td>20</td>\n",
              "      <td>25</td>\n",
              "      <td>-5</td>\n",
              "    </tr>\n",
              "    <tr>\n",
              "      <th>6</th>\n",
              "      <td>hear , hear !</td>\n",
              "      <td>bravo !</td>\n",
              "      <td>hear , hear !</td>\n",
              "      <td>bravo !</td>\n",
              "      <td>[hear, ,, hear, !]</td>\n",
              "      <td>[bravo, !]</td>\n",
              "      <td>4</td>\n",
              "      <td>2</td>\n",
              "      <td>2</td>\n",
              "    </tr>\n",
              "    <tr>\n",
              "      <th>7</th>\n",
              "      <td>hear , hear !</td>\n",
              "      <td>bravo !</td>\n",
              "      <td>hear , hear !</td>\n",
              "      <td>bravo !</td>\n",
              "      <td>[hear, ,, hear, !]</td>\n",
              "      <td>[bravo, !]</td>\n",
              "      <td>4</td>\n",
              "      <td>2</td>\n",
              "      <td>2</td>\n",
              "    </tr>\n",
              "    <tr>\n",
              "      <th>8</th>\n",
              "      <td>Mr. Speaker , my question is directed to the M...</td>\n",
              "      <td>monsieur le Orateur , ma question se adresse à...</td>\n",
              "      <td>mr. speaker , my question is directed to the m...</td>\n",
              "      <td>monsieur le orateur , ma question se adresse à...</td>\n",
              "      <td>[mr., speaker, ,, my, question, is, directed, ...</td>\n",
              "      <td>[monsieur, le, orateur, ,, ma, question, se, a...</td>\n",
              "      <td>13</td>\n",
              "      <td>16</td>\n",
              "      <td>-3</td>\n",
              "    </tr>\n",
              "    <tr>\n",
              "      <th>9</th>\n",
              "      <td>both have many years experience in the manufac...</td>\n",
              "      <td>tous deux possèdent de nombreuses années de ex...</td>\n",
              "      <td>both have many years experience in the manufac...</td>\n",
              "      <td>tous deux possèdent de nombreuses années de ex...</td>\n",
              "      <td>[both, have, many, years, experience, in, the,...</td>\n",
              "      <td>[tous, deux, possèdent, de, nombreuses, années...</td>\n",
              "      <td>14</td>\n",
              "      <td>19</td>\n",
              "      <td>-5</td>\n",
              "    </tr>\n",
              "  </tbody>\n",
              "</table>\n",
              "</div>\n",
              "      <button class=\"colab-df-convert\" onclick=\"convertToInteractive('df-b6cbdae5-4fb6-4ab6-893c-f4dd92542607')\"\n",
              "              title=\"Convert this dataframe to an interactive table.\"\n",
              "              style=\"display:none;\">\n",
              "        \n",
              "  <svg xmlns=\"http://www.w3.org/2000/svg\" height=\"24px\"viewBox=\"0 0 24 24\"\n",
              "       width=\"24px\">\n",
              "    <path d=\"M0 0h24v24H0V0z\" fill=\"none\"/>\n",
              "    <path d=\"M18.56 5.44l.94 2.06.94-2.06 2.06-.94-2.06-.94-.94-2.06-.94 2.06-2.06.94zm-11 1L8.5 8.5l.94-2.06 2.06-.94-2.06-.94L8.5 2.5l-.94 2.06-2.06.94zm10 10l.94 2.06.94-2.06 2.06-.94-2.06-.94-.94-2.06-.94 2.06-2.06.94z\"/><path d=\"M17.41 7.96l-1.37-1.37c-.4-.4-.92-.59-1.43-.59-.52 0-1.04.2-1.43.59L10.3 9.45l-7.72 7.72c-.78.78-.78 2.05 0 2.83L4 21.41c.39.39.9.59 1.41.59.51 0 1.02-.2 1.41-.59l7.78-7.78 2.81-2.81c.8-.78.8-2.07 0-2.86zM5.41 20L4 18.59l7.72-7.72 1.47 1.35L5.41 20z\"/>\n",
              "  </svg>\n",
              "      </button>\n",
              "      \n",
              "  <style>\n",
              "    .colab-df-container {\n",
              "      display:flex;\n",
              "      flex-wrap:wrap;\n",
              "      gap: 12px;\n",
              "    }\n",
              "\n",
              "    .colab-df-convert {\n",
              "      background-color: #E8F0FE;\n",
              "      border: none;\n",
              "      border-radius: 50%;\n",
              "      cursor: pointer;\n",
              "      display: none;\n",
              "      fill: #1967D2;\n",
              "      height: 32px;\n",
              "      padding: 0 0 0 0;\n",
              "      width: 32px;\n",
              "    }\n",
              "\n",
              "    .colab-df-convert:hover {\n",
              "      background-color: #E2EBFA;\n",
              "      box-shadow: 0px 1px 2px rgba(60, 64, 67, 0.3), 0px 1px 3px 1px rgba(60, 64, 67, 0.15);\n",
              "      fill: #174EA6;\n",
              "    }\n",
              "\n",
              "    [theme=dark] .colab-df-convert {\n",
              "      background-color: #3B4455;\n",
              "      fill: #D2E3FC;\n",
              "    }\n",
              "\n",
              "    [theme=dark] .colab-df-convert:hover {\n",
              "      background-color: #434B5C;\n",
              "      box-shadow: 0px 1px 3px 1px rgba(0, 0, 0, 0.15);\n",
              "      filter: drop-shadow(0px 1px 2px rgba(0, 0, 0, 0.3));\n",
              "      fill: #FFFFFF;\n",
              "    }\n",
              "  </style>\n",
              "\n",
              "      <script>\n",
              "        const buttonEl =\n",
              "          document.querySelector('#df-b6cbdae5-4fb6-4ab6-893c-f4dd92542607 button.colab-df-convert');\n",
              "        buttonEl.style.display =\n",
              "          google.colab.kernel.accessAllowed ? 'block' : 'none';\n",
              "\n",
              "        async function convertToInteractive(key) {\n",
              "          const element = document.querySelector('#df-b6cbdae5-4fb6-4ab6-893c-f4dd92542607');\n",
              "          const dataTable =\n",
              "            await google.colab.kernel.invokeFunction('convertToInteractive',\n",
              "                                                     [key], {});\n",
              "          if (!dataTable) return;\n",
              "\n",
              "          const docLinkHtml = 'Like what you see? Visit the ' +\n",
              "            '<a target=\"_blank\" href=https://colab.research.google.com/notebooks/data_table.ipynb>data table notebook</a>'\n",
              "            + ' to learn more about interactive tables.';\n",
              "          element.innerHTML = '';\n",
              "          dataTable['output_type'] = 'display_data';\n",
              "          await google.colab.output.renderOutput(dataTable, element);\n",
              "          const docLink = document.createElement('div');\n",
              "          docLink.innerHTML = docLinkHtml;\n",
              "          element.appendChild(docLink);\n",
              "        }\n",
              "      </script>\n",
              "    </div>\n",
              "  </div>\n",
              "  "
            ],
            "text/plain": [
              "                                             English  ... token_diff\n",
              "0                                               2 .   ...          0\n",
              "1                                               2 .   ...          0\n",
              "2                                         oh , oh !   ...          0\n",
              "3                                         oh , oh !   ...          0\n",
              "4                                         oh , oh !   ...          0\n",
              "5  let us remember , Mr. Speaker , that these seg...  ...         -5\n",
              "6                                     hear , hear !   ...          2\n",
              "7                                     hear , hear !   ...          2\n",
              "8  Mr. Speaker , my question is directed to the M...  ...         -3\n",
              "9  both have many years experience in the manufac...  ...         -5\n",
              "\n",
              "[10 rows x 9 columns]"
            ]
          },
          "metadata": {},
          "execution_count": 35
        }
      ]
    },
    {
      "cell_type": "code",
      "source": [
        "gold_test[['English_token_len','French_token_len']].plot(kind='hist',\n",
        "        alpha=1,\n",
        "        bins=range(0, 50, 1),\n",
        "        title='Histogram of tokens count by sentence',\n",
        "        rot=1,\n",
        "        grid=True,\n",
        "        figsize=(12,8),\n",
        "        fontsize=15, \n",
        "        color=['#A0E8AF', '#FFCF56'])\n",
        "plt.xlabel('Tokens count')\n",
        "plt.ylabel(\"Number of sentences\");"
      ],
      "metadata": {
        "id": "RVCWnz_slXcu",
        "outputId": "5bb9f859-bc61-484e-905b-20ea16bc3aa0",
        "execution": {
          "iopub.status.busy": "2022-01-24T11:51:32.564322Z",
          "iopub.execute_input": "2022-01-24T11:51:32.564593Z",
          "iopub.status.idle": "2022-01-24T11:51:33.039124Z",
          "shell.execute_reply.started": "2022-01-24T11:51:32.564559Z",
          "shell.execute_reply": "2022-01-24T11:51:33.038219Z"
        },
        "trusted": true,
        "colab": {
          "base_uri": "https://localhost:8080/",
          "height": 518
        }
      },
      "execution_count": 36,
      "outputs": [
        {
          "output_type": "display_data",
          "data": {
            "image/png": "[encoded data removed]",
            "text/plain": [
              "<Figure size 864x576 with 1 Axes>"
            ]
          },
          "metadata": {
            "needs_background": "light"
          }
        }
      ]
    },
    {
      "cell_type": "code",
      "source": [
        "gold_test['token_diff'].plot(kind='hist',\n",
        "        alpha=1,\n",
        "        bins=range(-50, 50, 1),\n",
        "        title='Histogram of tokens count diff between sentences',\n",
        "        rot=1,\n",
        "        grid=True,\n",
        "        figsize=(12,8),\n",
        "        fontsize=15, \n",
        "        color=['#A0E8AF', '#FFCF56'])\n",
        "plt.xlabel('Tokens difference count')\n",
        "plt.ylabel(\"Number of tokens diff\");"
      ],
      "metadata": {
        "id": "kzYM--aamHkl",
        "outputId": "8aeb201b-6852-419a-d841-05f220ba663a",
        "execution": {
          "iopub.status.busy": "2022-01-24T11:51:33.040873Z",
          "iopub.execute_input": "2022-01-24T11:51:33.041315Z",
          "iopub.status.idle": "2022-01-24T11:51:33.449530Z",
          "shell.execute_reply.started": "2022-01-24T11:51:33.041275Z",
          "shell.execute_reply": "2022-01-24T11:51:33.448803Z"
        },
        "trusted": true,
        "colab": {
          "base_uri": "https://localhost:8080/",
          "height": 518
        }
      },
      "execution_count": 37,
      "outputs": [
        {
          "output_type": "display_data",
          "data": {
            "image/png": "[encoded data removed]",
            "text/plain": [
              "<Figure size 864x576 with 1 Axes>"
            ]
          },
          "metadata": {
            "needs_background": "light"
          }
        }
      ]
    },
    {
      "cell_type": "markdown",
      "source": [
        "Field ens permet processar les dades d'una forma homogenia.\n",
        "Podem indicar la funció per tokenitzar inputs i outputs, tokens inici i final de sequencia, pad tokens per omplir els vectors i incloure la longitud dels inputs. Aquest ultim camp canviara el batch a una tuple (batchs, longituds) on el primer element es un tensor amb els tokens del input i el segon element la longitud."
      ],
      "metadata": {
        "id": "AwpJ-SIQKNNK"
      }
    },
    {
      "cell_type": "code",
      "source": [
        "SRC = Field(tokenize = tokenize_en, \n",
        "            init_token = '<sos>', \n",
        "            eos_token = '<eos>', \n",
        "            lower = True, \n",
        "            include_lengths = True)\n",
        "\n",
        "TRG = Field(tokenize = tokenize_fr, \n",
        "            init_token = '<sos>', \n",
        "            eos_token = '<eos>', \n",
        "            lower = True)"
      ],
      "metadata": {
        "id": "B59NkvD0KNNL",
        "execution": {
          "iopub.status.busy": "2022-01-24T11:51:33.450928Z",
          "iopub.execute_input": "2022-01-24T11:51:33.451178Z",
          "iopub.status.idle": "2022-01-24T11:51:33.458134Z",
          "shell.execute_reply.started": "2022-01-24T11:51:33.451143Z",
          "shell.execute_reply": "2022-01-24T11:51:33.457344Z"
        },
        "trusted": true
      },
      "execution_count": 38,
      "outputs": []
    },
    {
      "cell_type": "markdown",
      "source": [
        "\n",
        "Dividim les dades d'entrenament per fer crossvalidation"
      ],
      "metadata": {
        "id": "KlRkHaNwKNNO"
      }
    },
    {
      "cell_type": "code",
      "source": [
        "train, valid = train_test_split(df_small, test_size = 0.3)"
      ],
      "metadata": {
        "id": "NyPHpXbnKNNO",
        "execution": {
          "iopub.status.busy": "2022-01-24T11:51:33.459682Z",
          "iopub.execute_input": "2022-01-24T11:51:33.459986Z",
          "iopub.status.idle": "2022-01-24T11:51:33.502916Z",
          "shell.execute_reply.started": "2022-01-24T11:51:33.459949Z",
          "shell.execute_reply": "2022-01-24T11:51:33.502177Z"
        },
        "trusted": true
      },
      "execution_count": 39,
      "outputs": []
    },
    {
      "cell_type": "markdown",
      "source": [
        "Transformem dades al format json per poder utilitzar la funció tabular datasets per generar les dades en el format correcte mitjançant fields. "
      ],
      "metadata": {
        "id": "_RaHPvDzj6Zp"
      }
    },
    {
      "cell_type": "code",
      "source": [
        "train.to_json('train.json', orient='records', lines=True)\n",
        "valid.to_json('valid.json', orient='records', lines=True)\n",
        "gold_test.to_json('test.json', orient='records', lines=True)"
      ],
      "metadata": {
        "id": "Z_j709foHqai",
        "execution": {
          "iopub.status.busy": "2022-01-24T11:51:33.505271Z",
          "iopub.execute_input": "2022-01-24T11:51:33.505740Z",
          "iopub.status.idle": "2022-01-24T11:51:35.203091Z",
          "shell.execute_reply.started": "2022-01-24T11:51:33.505699Z",
          "shell.execute_reply": "2022-01-24T11:51:35.202326Z"
        },
        "trusted": true
      },
      "execution_count": 40,
      "outputs": []
    },
    {
      "cell_type": "code",
      "source": [
        "#%cd working\n",
        "#%ls"
      ],
      "metadata": {
        "execution": {
          "iopub.status.busy": "2022-01-24T11:51:35.204403Z",
          "iopub.execute_input": "2022-01-24T11:51:35.204698Z",
          "iopub.status.idle": "2022-01-24T11:51:35.208760Z",
          "shell.execute_reply.started": "2022-01-24T11:51:35.204661Z",
          "shell.execute_reply": "2022-01-24T11:51:35.208059Z"
        },
        "trusted": true,
        "id": "K8GRECK8DOZa"
      },
      "execution_count": 41,
      "outputs": []
    },
    {
      "cell_type": "code",
      "source": [
        "fields={'English': ('src', SRC), 'French': ('trg', TRG)}"
      ],
      "metadata": {
        "id": "LIEr3qCITiWC",
        "execution": {
          "iopub.status.busy": "2022-01-24T11:51:35.210157Z",
          "iopub.execute_input": "2022-01-24T11:51:35.211152Z",
          "iopub.status.idle": "2022-01-24T11:51:35.218232Z",
          "shell.execute_reply.started": "2022-01-24T11:51:35.211112Z",
          "shell.execute_reply": "2022-01-24T11:51:35.217499Z"
        },
        "trusted": true
      },
      "execution_count": 42,
      "outputs": []
    },
    {
      "cell_type": "code",
      "source": [
        "train_data, valid_data, test_data = TabularDataset.splits(\n",
        "    path='',\n",
        "    train= 'train.json',\n",
        "    validation= 'valid.json',\n",
        "    test='test.json',\n",
        "    format='json',\n",
        "    fields=fields)"
      ],
      "metadata": {
        "id": "8ZT2qh8LHttg",
        "execution": {
          "iopub.status.busy": "2022-01-24T11:51:35.219884Z",
          "iopub.execute_input": "2022-01-24T11:51:35.220499Z",
          "iopub.status.idle": "2022-01-24T11:51:46.402603Z",
          "shell.execute_reply.started": "2022-01-24T11:51:35.220460Z",
          "shell.execute_reply": "2022-01-24T11:51:46.401859Z"
        },
        "trusted": true
      },
      "execution_count": 43,
      "outputs": []
    },
    {
      "cell_type": "markdown",
      "source": [
        "I construim el vocabulari. Per grans datasets cal reduir el conjunt de vocabulari o les capes d'embedding seran massa grans. Min freq. entre 2 i 20 dona vocabularis d'entre 2000 i 20000 depenen de la mida del dataset d'entrenament."
      ],
      "metadata": {
        "id": "VLHY4MSlKNNP"
      }
    },
    {
      "cell_type": "code",
      "source": [
        "MIN_FREQUENCY = 10\n",
        "SRC.build_vocab(train_data, min_freq = MIN_FREQUENCY)\n",
        "TRG.build_vocab(train_data, min_freq = MIN_FREQUENCY)"
      ],
      "metadata": {
        "id": "OrGCHq3NKNNP",
        "execution": {
          "iopub.status.busy": "2022-01-24T11:51:46.403774Z",
          "iopub.execute_input": "2022-01-24T11:51:46.405864Z",
          "iopub.status.idle": "2022-01-24T11:51:47.200958Z",
          "shell.execute_reply.started": "2022-01-24T11:51:46.405822Z",
          "shell.execute_reply": "2022-01-24T11:51:47.199929Z"
        },
        "trusted": true
      },
      "execution_count": 44,
      "outputs": []
    },
    {
      "cell_type": "code",
      "source": [
        "src_len = len(SRC.vocab)\n",
        "trg_len = len(TRG.vocab)"
      ],
      "metadata": {
        "id": "fq8MDr7AqJoz",
        "execution": {
          "iopub.status.busy": "2022-01-24T11:51:47.202170Z",
          "iopub.execute_input": "2022-01-24T11:51:47.202537Z",
          "iopub.status.idle": "2022-01-24T11:51:47.207471Z",
          "shell.execute_reply.started": "2022-01-24T11:51:47.202494Z",
          "shell.execute_reply": "2022-01-24T11:51:47.206493Z"
        },
        "trusted": true
      },
      "execution_count": 45,
      "outputs": []
    },
    {
      "cell_type": "code",
      "source": [
        "print(src_len)\n",
        "print(trg_len)"
      ],
      "metadata": {
        "id": "9gBpe05JDBiz",
        "outputId": "85f2ae7a-4e52-4a48-9beb-962b2d305762",
        "execution": {
          "iopub.status.busy": "2022-01-24T11:51:47.209033Z",
          "iopub.execute_input": "2022-01-24T11:51:47.209668Z",
          "iopub.status.idle": "2022-01-24T11:51:47.219385Z",
          "shell.execute_reply.started": "2022-01-24T11:51:47.209625Z",
          "shell.execute_reply": "2022-01-24T11:51:47.218479Z"
        },
        "trusted": true,
        "colab": {
          "base_uri": "https://localhost:8080/"
        }
      },
      "execution_count": 46,
      "outputs": [
        {
          "output_type": "stream",
          "name": "stdout",
          "text": [
            "4723\n",
            "5450\n"
          ]
        }
      ]
    },
    {
      "cell_type": "code",
      "source": [
        "#save model vocab\n",
        "#%cd /gdrive\n",
        "src_vocab_name = f'SRC_N{N}_vocab{src_len}_freq{MIN_FREQUENCY}'\n",
        "SRC_PATH = f'{src_vocab_name}'\n",
        "torch.save(SRC.vocab, SRC_PATH)\n",
        "\n",
        "trg_vocab_name = f'TRG_N{N}_vocab{trg_len}_freq{MIN_FREQUENCY}'\n",
        "TRG_PATH = f'{trg_vocab_name}'\n",
        "torch.save(TRG.vocab, TRG_PATH)"
      ],
      "metadata": {
        "id": "v_7DN8kk0EQw",
        "execution": {
          "iopub.status.busy": "2022-01-24T11:51:47.221905Z",
          "iopub.execute_input": "2022-01-24T11:51:47.222688Z",
          "iopub.status.idle": "2022-01-24T11:51:47.297282Z",
          "shell.execute_reply.started": "2022-01-24T11:51:47.222645Z",
          "shell.execute_reply": "2022-01-24T11:51:47.296584Z"
        },
        "trusted": true
      },
      "execution_count": 47,
      "outputs": []
    },
    {
      "cell_type": "code",
      "source": [
        "print(len(train_data))\n",
        "print(len(valid_data))\n",
        "print(len(test_data))"
      ],
      "metadata": {
        "id": "nxinx0hQHkAS",
        "outputId": "abfaa5db-1140-4e15-d6f4-67ffa03a7e8e",
        "execution": {
          "iopub.status.busy": "2022-01-24T11:51:47.298481Z",
          "iopub.execute_input": "2022-01-24T11:51:47.298806Z",
          "iopub.status.idle": "2022-01-24T11:51:47.305360Z",
          "shell.execute_reply.started": "2022-01-24T11:51:47.298769Z",
          "shell.execute_reply": "2022-01-24T11:51:47.304400Z"
        },
        "trusted": true,
        "colab": {
          "base_uri": "https://localhost:8080/"
        }
      },
      "execution_count": 48,
      "outputs": [
        {
          "output_type": "stream",
          "name": "stdout",
          "text": [
            "70000\n",
            "30000\n",
            "447\n"
          ]
        }
      ]
    },
    {
      "cell_type": "code",
      "source": [
        "print(train_data.examples[0].src)\n",
        "print(train_data.examples[0].trg)"
      ],
      "metadata": {
        "id": "H1km5sJ-KWGA",
        "outputId": "34191357-3e50-4abc-9026-1d8df5c0eb2f",
        "execution": {
          "iopub.status.busy": "2022-01-24T11:51:47.307381Z",
          "iopub.execute_input": "2022-01-24T11:51:47.308229Z",
          "iopub.status.idle": "2022-01-24T11:51:47.314587Z",
          "shell.execute_reply.started": "2022-01-24T11:51:47.308185Z",
          "shell.execute_reply": "2022-01-24T11:51:47.313642Z"
        },
        "trusted": true,
        "colab": {
          "base_uri": "https://localhost:8080/"
        }
      },
      "execution_count": 49,
      "outputs": [
        {
          "output_type": "stream",
          "name": "stdout",
          "text": [
            "['people', 'were', 'wonderful', '.']\n",
            "['les', 'gens', 'sont', 'merveilleux', '.']\n"
          ]
        }
      ]
    },
    {
      "cell_type": "markdown",
      "source": [
        "Define device and create iterators."
      ],
      "metadata": {
        "id": "LE-QNbERKNNQ"
      }
    },
    {
      "cell_type": "code",
      "source": [
        "BATCH_SIZE = 32\n",
        "\n",
        "device = torch.device('cuda' if torch.cuda.is_available() else 'cpu')\n",
        "print(device)\n",
        "\n",
        "train_iterator, valid_iterator, test_iterator = BucketIterator.splits(\n",
        "    (train_data, valid_data, test_data), \n",
        "     batch_size = BATCH_SIZE,\n",
        "     sort_within_batch = True,\n",
        "     sort_key = lambda x : len(x.src),\n",
        "     \n",
        "     sort=False, \n",
        "     \n",
        "     device = device)"
      ],
      "metadata": {
        "id": "ZqxgseHQKNNR",
        "outputId": "f04d8338-df96-4b56-de6b-da163ccc74f4",
        "execution": {
          "iopub.status.busy": "2022-01-24T11:51:47.316252Z",
          "iopub.execute_input": "2022-01-24T11:51:47.316799Z",
          "iopub.status.idle": "2022-01-24T11:51:47.325477Z",
          "shell.execute_reply.started": "2022-01-24T11:51:47.316760Z",
          "shell.execute_reply": "2022-01-24T11:51:47.324492Z"
        },
        "trusted": true,
        "colab": {
          "base_uri": "https://localhost:8080/"
        }
      },
      "execution_count": 50,
      "outputs": [
        {
          "output_type": "stream",
          "name": "stdout",
          "text": [
            "cuda\n"
          ]
        }
      ]
    },
    {
      "cell_type": "code",
      "source": [
        "print(len(train_iterator) )"
      ],
      "metadata": {
        "id": "nY-pXrIRLPuM",
        "outputId": "c5a36f73-bc93-49e3-b5b3-5d845fe900dc",
        "execution": {
          "iopub.status.busy": "2022-01-24T11:51:47.327074Z",
          "iopub.execute_input": "2022-01-24T11:51:47.327723Z",
          "iopub.status.idle": "2022-01-24T11:51:47.335332Z",
          "shell.execute_reply.started": "2022-01-24T11:51:47.327683Z",
          "shell.execute_reply": "2022-01-24T11:51:47.334312Z"
        },
        "trusted": true,
        "colab": {
          "base_uri": "https://localhost:8080/"
        }
      },
      "execution_count": 51,
      "outputs": [
        {
          "output_type": "stream",
          "name": "stdout",
          "text": [
            "2188\n"
          ]
        }
      ]
    },
    {
      "cell_type": "markdown",
      "source": [
        "## Building the Model\n",
        "\n",
        "### Encoder\n",
        "\n",
        "Definim el encoder. \n",
        "Embeding\n",
        "RNN Bidireccional\n",
        "Linear out\n",
        "Vigilem les mides dels tensors en cada pas"
      ],
      "metadata": {
        "id": "HPtxw3k7KNNR"
      }
    },
    {
      "cell_type": "code",
      "source": [
        "class Encoder(nn.Module):\n",
        "    def __init__(self, input_dim, emb_dim, enc_hid_dim, dec_hid_dim, dropout):\n",
        "        super().__init__()\n",
        "        \n",
        "        self.embedding = nn.Embedding(input_dim, emb_dim)\n",
        "        \n",
        "        self.rnn = nn.GRU(emb_dim, enc_hid_dim, bidirectional = True)\n",
        "        \n",
        "        self.fc = nn.Linear(enc_hid_dim * 2, dec_hid_dim)\n",
        "        \n",
        "        self.dropout = nn.Dropout(dropout)\n",
        "        \n",
        "    def forward(self, src, src_len):\n",
        "        \n",
        "        #src = [src len, batch size]\n",
        "        #src_len = [batch size]\n",
        "        \n",
        "        embedded = self.dropout(self.embedding(src))\n",
        "        \n",
        "        #embedded = [src len, batch size, emb dim]\n",
        " \n",
        "        packed_embedded = nn.utils.rnn.pack_padded_sequence(embedded, src_len.to('cpu'))\n",
        "                \n",
        "        packed_outputs, hidden = self.rnn(packed_embedded)\n",
        "                                 \n",
        "        #packed_outputs is a packed sequence containing all hidden states\n",
        "        #hidden is now from the final non-padded element in the batch\n",
        "            \n",
        "        outputs, _ = nn.utils.rnn.pad_packed_sequence(packed_outputs) \n",
        "            \n",
        "        #outputs is now a non-packed sequence, all hidden states obtained\n",
        "        #  when the input is a pad token are all zeros\n",
        "            \n",
        "        #outputs = [src len, batch size, hid dim * num directions]\n",
        "        #hidden = [n layers * num directions, batch size, hid dim]\n",
        "        \n",
        "        #hidden is stacked [forward_1, backward_1, forward_2, backward_2, ...]\n",
        "        #outputs are always from the last layer\n",
        "        \n",
        "        #hidden [-2, :, : ] is the last of the forwards RNN \n",
        "        #hidden [-1, :, : ] is the last of the backwards RNN\n",
        "        \n",
        "        #initial decoder hidden is final hidden state of the forwards and backwards \n",
        "        \n",
        "        #  encoder RNNs fed through a linear layer\n",
        "        hidden = torch.tanh(self.fc(torch.cat((hidden[-2,:,:], hidden[-1,:,:]), dim = 1)))\n",
        "        \n",
        "        #outputs = [src len, batch size, enc hid dim * 2]\n",
        "        #hidden = [batch size, dec hid dim]\n",
        "        \n",
        "        return outputs, hidden"
      ],
      "metadata": {
        "id": "KW9Rtt_8KNNS",
        "execution": {
          "iopub.status.busy": "2022-01-24T11:51:47.337004Z",
          "iopub.execute_input": "2022-01-24T11:51:47.337576Z",
          "iopub.status.idle": "2022-01-24T11:51:47.348965Z",
          "shell.execute_reply.started": "2022-01-24T11:51:47.337534Z",
          "shell.execute_reply": "2022-01-24T11:51:47.348237Z"
        },
        "trusted": true
      },
      "execution_count": 52,
      "outputs": []
    },
    {
      "cell_type": "markdown",
      "source": [
        "### Attention\n",
        "\n",
        "Calculem l'atenció i apliquem softmax"
      ],
      "metadata": {
        "id": "3E4rA9YnKNNT"
      }
    },
    {
      "cell_type": "code",
      "source": [
        "class Attention(nn.Module):\n",
        "    def __init__(self, enc_hid_dim, dec_hid_dim):\n",
        "        super().__init__()\n",
        "        \n",
        "        self.attn = nn.Linear((enc_hid_dim * 2) + dec_hid_dim, dec_hid_dim)\n",
        "        self.v = nn.Linear(dec_hid_dim, 1, bias = False)\n",
        "        \n",
        "    def forward(self, hidden, encoder_outputs, mask):\n",
        "        \n",
        "        #hidden = [batch size, dec hid dim]\n",
        "        #encoder_outputs = [src len, batch size, enc hid dim * 2]\n",
        "        \n",
        "        batch_size = encoder_outputs.shape[1]\n",
        "        src_len = encoder_outputs.shape[0]\n",
        "        \n",
        "        #repeat decoder hidden state src_len times\n",
        "        hidden = hidden.unsqueeze(1).repeat(1, src_len, 1)\n",
        "  \n",
        "        encoder_outputs = encoder_outputs.permute(1, 0, 2)\n",
        "        \n",
        "        #hidden = [batch size, src len, dec hid dim]\n",
        "        #encoder_outputs = [batch size, src len, enc hid dim * 2]\n",
        "        \n",
        "        energy = torch.tanh(self.attn(torch.cat((hidden, encoder_outputs), dim = 2))) \n",
        "        \n",
        "        #energy = [batch size, src len, dec hid dim]\n",
        "\n",
        "        attention = self.v(energy).squeeze(2)\n",
        "        \n",
        "        #attention = [batch size, src len]\n",
        "        \n",
        "        attention = attention.masked_fill(mask == 0, -1e10)\n",
        "        \n",
        "        return F.softmax(attention, dim = 1)"
      ],
      "metadata": {
        "id": "RmW4R_mCKNNT",
        "execution": {
          "iopub.status.busy": "2022-01-24T11:51:47.350495Z",
          "iopub.execute_input": "2022-01-24T11:51:47.351052Z",
          "iopub.status.idle": "2022-01-24T11:51:47.363424Z",
          "shell.execute_reply.started": "2022-01-24T11:51:47.351010Z",
          "shell.execute_reply": "2022-01-24T11:51:47.362503Z"
        },
        "trusted": true
      },
      "execution_count": 53,
      "outputs": []
    },
    {
      "cell_type": "markdown",
      "source": [
        "### Decoder\n",
        "\n",
        "Embeding\n",
        "GRU direcional\n",
        "Linear out\n",
        "\n",
        "Calcular vector de pes w"
      ],
      "metadata": {
        "id": "iJTSpDAvKNNU"
      }
    },
    {
      "cell_type": "code",
      "source": [
        "class Decoder(nn.Module):\n",
        "    def __init__(self, output_dim, emb_dim, enc_hid_dim, dec_hid_dim, dropout, attention):\n",
        "        super().__init__()\n",
        "\n",
        "        self.output_dim = output_dim\n",
        "        self.attention = attention\n",
        "        \n",
        "        self.embedding = nn.Embedding(output_dim, emb_dim)\n",
        "        \n",
        "        self.rnn = nn.GRU((enc_hid_dim * 2) + emb_dim, dec_hid_dim)\n",
        "        \n",
        "        self.fc_out = nn.Linear((enc_hid_dim * 2) + dec_hid_dim + emb_dim, output_dim)\n",
        "        \n",
        "        self.dropout = nn.Dropout(dropout)\n",
        "        \n",
        "    def forward(self, input, hidden, encoder_outputs, mask):\n",
        "             \n",
        "        #input = [batch size]\n",
        "        #hidden = [batch size, dec hid dim]\n",
        "        \n",
        "        #encoder_outputs = [src len, batch size, enc hid dim * 2]\n",
        "        #mask = [batch size, src len]\n",
        "        \n",
        "        input = input.unsqueeze(0)\n",
        "        \n",
        "        #input = [1, batch size]\n",
        "        \n",
        "        embedded = self.dropout(self.embedding(input))\n",
        "        \n",
        "        #embedded = [1, batch size, emb dim]\n",
        "        \n",
        "        a = self.attention(hidden, encoder_outputs, mask)\n",
        "                \n",
        "        #a = [batch size, src len]\n",
        "        \n",
        "        a = a.unsqueeze(1)\n",
        "        \n",
        "        #a = [batch size, 1, src len]\n",
        "        \n",
        "        encoder_outputs = encoder_outputs.permute(1, 0, 2)\n",
        "        \n",
        "        #encoder_outputs = [batch size, src len, enc hid dim * 2]\n",
        "        \n",
        "        weighted = torch.bmm(a, encoder_outputs)\n",
        "        \n",
        "        #weighted = [batch size, 1, enc hid dim * 2]\n",
        "        \n",
        "        weighted = weighted.permute(1, 0, 2)\n",
        "        \n",
        "        #weighted = [1, batch size, enc hid dim * 2]\n",
        "        \n",
        "        rnn_input = torch.cat((embedded, weighted), dim = 2)\n",
        "        \n",
        "        #rnn_input = [1, batch size, (enc hid dim * 2) + emb dim]\n",
        "            \n",
        "        output, hidden = self.rnn(rnn_input, hidden.unsqueeze(0))\n",
        "        \n",
        "        #output = [seq len, batch size, dec hid dim * n directions]\n",
        "        #hidden = [n layers * n directions, batch size, dec hid dim]\n",
        "        \n",
        "        #output = [1, batch size, dec hid dim]\n",
        "        #hidden = [1, batch size, dec hid dim]\n",
        "\n",
        "        assert (output == hidden).all()\n",
        "        \n",
        "        embedded = embedded.squeeze(0)\n",
        "        output = output.squeeze(0)\n",
        "        weighted = weighted.squeeze(0)\n",
        "        \n",
        "        prediction = self.fc_out(torch.cat((output, weighted, embedded), dim = 1))\n",
        "        \n",
        "        #prediction = [batch size, output dim]\n",
        "        \n",
        "        return prediction, hidden.squeeze(0), a.squeeze(1)"
      ],
      "metadata": {
        "id": "McdCflYJKNNU",
        "execution": {
          "iopub.status.busy": "2022-01-24T11:51:47.366672Z",
          "iopub.execute_input": "2022-01-24T11:51:47.367119Z",
          "iopub.status.idle": "2022-01-24T11:51:47.381605Z",
          "shell.execute_reply.started": "2022-01-24T11:51:47.367073Z",
          "shell.execute_reply": "2022-01-24T11:51:47.380742Z"
        },
        "trusted": true
      },
      "execution_count": 54,
      "outputs": []
    },
    {
      "cell_type": "markdown",
      "source": [
        "### Seq2Seq\n",
        "\n",
        "Afegim padding, mascaras i la longitud de les sequencies\n",
        "\n",
        "\n",
        "Guardem els vectors d'atenció en la matriu attention\n",
        "\n",
        "Inferencia amb forced teaching"
      ],
      "metadata": {
        "id": "TxeL5MkBKNNV"
      }
    },
    {
      "cell_type": "code",
      "source": [
        "class Seq2Seq(nn.Module):\n",
        "    def __init__(self, encoder, decoder, src_pad_idx, device):\n",
        "        super().__init__()\n",
        "        \n",
        "        self.encoder = encoder\n",
        "        self.decoder = decoder\n",
        "        self.src_pad_idx = src_pad_idx\n",
        "        self.device = device\n",
        "        \n",
        "    def create_mask(self, src):\n",
        "        mask = (src != self.src_pad_idx).permute(1, 0)\n",
        "        return mask\n",
        "        \n",
        "    def forward(self, src, src_len, trg, teacher_forcing_ratio = 0.5):\n",
        "        \n",
        "        #src = [src len, batch size]\n",
        "        #src_len = [batch size]\n",
        "        #trg = [trg len, batch size]\n",
        " \n",
        "                    \n",
        "        batch_size = src.shape[1]\n",
        "        trg_len = trg.shape[0]\n",
        "        trg_vocab_size = self.decoder.output_dim\n",
        "        \n",
        "        #tensor to store decoder outputs\n",
        "        outputs = torch.zeros(trg_len, batch_size, trg_vocab_size).to(self.device)\n",
        "        \n",
        "        #encoder_outputs is all hidden states of the input sequence, back and forwards\n",
        "        #hidden is the final forward and backward hidden states, passed through a linear layer\n",
        "        encoder_outputs, hidden = self.encoder(src, src_len)\n",
        "                \n",
        "        #first input to the decoder is the <sos> tokens\n",
        "        input = trg[0,:]\n",
        "        \n",
        "        mask = self.create_mask(src)\n",
        "\n",
        "        #mask = [batch size, src len]\n",
        "                \n",
        "        for t in range(1, trg_len):\n",
        "            \n",
        "            #insert input token embedding, previous hidden state, all encoder hidden states \n",
        "            #  and mask\n",
        "            #receive output tensor (predictions) and new hidden state\n",
        "            output, hidden, _ = self.decoder(input, hidden, encoder_outputs, mask)\n",
        "            \n",
        "            #place predictions in a tensor holding predictions for each token\n",
        "            outputs[t] = output\n",
        "            \n",
        "            #decide if we are going to use teacher forcing or not\n",
        "\n",
        "            teacher_force = random.random() < teacher_forcing_ratio\n",
        "            \n",
        "            #get the highest predicted token from our predictions\n",
        "            top1 = output.argmax(1) \n",
        "            \n",
        "            #if teacher forcing, use actual next token as next input\n",
        "            #if not, use predicted token\n",
        "            input = trg[t] if teacher_force else top1\n",
        "            \n",
        "        return outputs"
      ],
      "metadata": {
        "id": "NfvEJASBKNNV",
        "execution": {
          "iopub.status.busy": "2022-01-24T11:51:47.384919Z",
          "iopub.execute_input": "2022-01-24T11:51:47.385567Z",
          "iopub.status.idle": "2022-01-24T11:51:47.398092Z",
          "shell.execute_reply.started": "2022-01-24T11:51:47.385522Z",
          "shell.execute_reply": "2022-01-24T11:51:47.397359Z"
        },
        "trusted": true
      },
      "execution_count": 55,
      "outputs": []
    },
    {
      "cell_type": "markdown",
      "source": [
        "## Training the Seq2Seq Model\n",
        "\n",
        "Next up, initializing the model and placing it on the GPU."
      ],
      "metadata": {
        "id": "2bgkgciJKNNW"
      }
    },
    {
      "cell_type": "code",
      "source": [
        "INPUT_DIM = len(SRC.vocab)\n",
        "OUTPUT_DIM = len(TRG.vocab)\n",
        "ENC_EMB_DIM = 64\n",
        "DEC_EMB_DIM = 64\n",
        "ENC_HID_DIM = 64\n",
        "DEC_HID_DIM = 64\n",
        "ENC_DROPOUT = 0.5\n",
        "DEC_DROPOUT = 0.5\n",
        "\n",
        "SRC_PAD_IDX = SRC.vocab.stoi[SRC.pad_token]\n",
        "\n",
        "attn = Attention(ENC_HID_DIM, DEC_HID_DIM)\n",
        "enc = Encoder(INPUT_DIM, ENC_EMB_DIM, ENC_HID_DIM, DEC_HID_DIM, ENC_DROPOUT)\n",
        "dec = Decoder(OUTPUT_DIM, DEC_EMB_DIM, ENC_HID_DIM, DEC_HID_DIM, DEC_DROPOUT, attn)\n",
        "\n",
        "model = Seq2Seq(enc, dec, SRC_PAD_IDX, device).to(device)"
      ],
      "metadata": {
        "id": "R9wYGTQEKNNW",
        "execution": {
          "iopub.status.busy": "2022-01-24T11:51:47.399705Z",
          "iopub.execute_input": "2022-01-24T11:51:47.400251Z",
          "iopub.status.idle": "2022-01-24T11:51:55.535387Z",
          "shell.execute_reply.started": "2022-01-24T11:51:47.400213Z",
          "shell.execute_reply": "2022-01-24T11:51:55.534511Z"
        },
        "trusted": true
      },
      "execution_count": 56,
      "outputs": []
    },
    {
      "cell_type": "markdown",
      "source": [
        "Init model parameters."
      ],
      "metadata": {
        "id": "8Rp7qOMlKNNW"
      }
    },
    {
      "cell_type": "code",
      "source": [
        "def init_weights(m):\n",
        "    for name, param in m.named_parameters():\n",
        "        if 'weight' in name:\n",
        "            nn.init.normal_(param.data, mean=0, std=0.02)\n",
        "        else:\n",
        "            nn.init.constant_(param.data, 0)\n",
        "            \n",
        "model.apply(init_weights)"
      ],
      "metadata": {
        "id": "bk7y57t0KNNX",
        "outputId": "f458bb13-1622-4938-c314-4178bf9ec610",
        "execution": {
          "iopub.status.busy": "2022-01-24T11:51:55.540408Z",
          "iopub.execute_input": "2022-01-24T11:51:55.542556Z",
          "iopub.status.idle": "2022-01-24T11:51:55.562204Z",
          "shell.execute_reply.started": "2022-01-24T11:51:55.542515Z",
          "shell.execute_reply": "2022-01-24T11:51:55.561491Z"
        },
        "trusted": true,
        "colab": {
          "base_uri": "https://localhost:8080/"
        }
      },
      "execution_count": 57,
      "outputs": [
        {
          "output_type": "execute_result",
          "data": {
            "text/plain": [
              "Seq2Seq(\n",
              "  (encoder): Encoder(\n",
              "    (embedding): Embedding(4723, 64)\n",
              "    (rnn): GRU(64, 64, bidirectional=True)\n",
              "    (fc): Linear(in_features=128, out_features=64, bias=True)\n",
              "    (dropout): Dropout(p=0.5, inplace=False)\n",
              "  )\n",
              "  (decoder): Decoder(\n",
              "    (attention): Attention(\n",
              "      (attn): Linear(in_features=192, out_features=64, bias=True)\n",
              "      (v): Linear(in_features=64, out_features=1, bias=False)\n",
              "    )\n",
              "    (embedding): Embedding(5450, 64)\n",
              "    (rnn): GRU(192, 64)\n",
              "    (fc_out): Linear(in_features=256, out_features=5450, bias=True)\n",
              "    (dropout): Dropout(p=0.5, inplace=False)\n",
              "  )\n",
              ")"
            ]
          },
          "metadata": {},
          "execution_count": 57
        }
      ]
    },
    {
      "cell_type": "markdown",
      "source": [
        "Nombre de parametre del model"
      ],
      "metadata": {
        "id": "JkrLJWKFKNNX"
      }
    },
    {
      "cell_type": "code",
      "source": [
        "def count_parameters(model):\n",
        "    return sum(p.numel() for p in model.parameters() if p.requires_grad)\n",
        "\n",
        "print(f'The model has {count_parameters(model):,} trainable parameters')"
      ],
      "metadata": {
        "id": "KYU3-UdAKNNX",
        "outputId": "58c8fb81-115f-4fbc-c324-0fb96bff690e",
        "execution": {
          "iopub.status.busy": "2022-01-24T11:51:55.566212Z",
          "iopub.execute_input": "2022-01-24T11:51:55.568240Z",
          "iopub.status.idle": "2022-01-24T11:51:55.577802Z",
          "shell.execute_reply.started": "2022-01-24T11:51:55.568202Z",
          "shell.execute_reply": "2022-01-24T11:51:55.576989Z"
        },
        "trusted": true,
        "colab": {
          "base_uri": "https://localhost:8080/"
        }
      },
      "execution_count": 58,
      "outputs": [
        {
          "output_type": "stream",
          "name": "stdout",
          "text": [
            "The model has 2,171,850 trainable parameters\n"
          ]
        }
      ]
    },
    {
      "cell_type": "markdown",
      "source": [
        "Optimitzador Adam\n",
        "\n",
        "Loss function cross entropy"
      ],
      "metadata": {
        "id": "wdM6vmUgKNNY"
      }
    },
    {
      "cell_type": "code",
      "source": [
        "optimizer = optim.Adam(model.parameters())"
      ],
      "metadata": {
        "id": "ffZ4_DGLKNNY",
        "execution": {
          "iopub.status.busy": "2022-01-24T11:51:55.582116Z",
          "iopub.execute_input": "2022-01-24T11:51:55.583991Z",
          "iopub.status.idle": "2022-01-24T11:51:55.589942Z",
          "shell.execute_reply.started": "2022-01-24T11:51:55.583954Z",
          "shell.execute_reply": "2022-01-24T11:51:55.589305Z"
        },
        "trusted": true
      },
      "execution_count": 59,
      "outputs": []
    },
    {
      "cell_type": "code",
      "source": [
        "TRG_PAD_IDX = TRG.vocab.stoi[TRG.pad_token]\n",
        "\n",
        "criterion = nn.CrossEntropyLoss(ignore_index = TRG_PAD_IDX)"
      ],
      "metadata": {
        "id": "OGWUG62dKNNZ",
        "execution": {
          "iopub.status.busy": "2022-01-24T11:51:55.595217Z",
          "iopub.execute_input": "2022-01-24T11:51:55.596013Z",
          "iopub.status.idle": "2022-01-24T11:51:55.603796Z",
          "shell.execute_reply.started": "2022-01-24T11:51:55.595974Z",
          "shell.execute_reply": "2022-01-24T11:51:55.603091Z"
        },
        "trusted": true
      },
      "execution_count": 60,
      "outputs": []
    },
    {
      "cell_type": "markdown",
      "source": [
        "Training i validació"
      ],
      "metadata": {
        "id": "R7_6vbvqKNNZ"
      }
    },
    {
      "cell_type": "code",
      "source": [
        "def train(model, iterator, optimizer, criterion, clip):\n",
        "    \n",
        "    model.train()\n",
        "    \n",
        "    epoch_loss = 0\n",
        "    \n",
        "    for i, batch in enumerate(iterator):\n",
        "        start_time = time.time()\n",
        "\n",
        "        src, src_len = batch.src\n",
        "        trg = batch.trg\n",
        "        \n",
        "        optimizer.zero_grad()\n",
        "        \n",
        "        output = model(src, src_len, trg)\n",
        "        \n",
        "        #trg = [trg len, batch size]\n",
        "        #output = [trg len, batch size, output dim]\n",
        "        \n",
        "        output_dim = output.shape[-1]\n",
        "        \n",
        "        output = output[1:].view(-1, output_dim)\n",
        "        trg = trg[1:].view(-1)\n",
        "        \n",
        "        #trg = [(trg len - 1) * batch size]\n",
        "        #output = [(trg len - 1) * batch size, output dim]\n",
        "        \n",
        "        loss = criterion(output, trg)\n",
        "        \n",
        "        loss.backward()\n",
        "        \n",
        "        torch.nn.utils.clip_grad_norm_(model.parameters(), clip)\n",
        "        \n",
        "        optimizer.step()\n",
        "\n",
        "        end_time = time.time()\n",
        "        total_time = end_time - start_time\n",
        "        \n",
        "        epoch_loss += loss.item()\n",
        "        if i%100 == 0:\n",
        "          print(f\"Epoch Step: {i} Batch Loss: {loss.item():.3f} Batch Time: {total_time:.3f} s\")\n",
        "        \n",
        "    return epoch_loss / len(iterator)"
      ],
      "metadata": {
        "id": "o5iSV9u7KNNZ",
        "execution": {
          "iopub.status.busy": "2022-01-24T11:51:55.605149Z",
          "iopub.execute_input": "2022-01-24T11:51:55.605853Z",
          "iopub.status.idle": "2022-01-24T11:51:55.639047Z",
          "shell.execute_reply.started": "2022-01-24T11:51:55.605814Z",
          "shell.execute_reply": "2022-01-24T11:51:55.638336Z"
        },
        "trusted": true
      },
      "execution_count": 61,
      "outputs": []
    },
    {
      "cell_type": "code",
      "source": [
        "def evaluate(model, iterator, criterion):\n",
        "    \n",
        "    model.eval()\n",
        "    \n",
        "    epoch_loss = 0\n",
        "    \n",
        "    with torch.no_grad():\n",
        "    \n",
        "        for i, batch in enumerate(iterator):\n",
        "\n",
        "            src, src_len = batch.src\n",
        "            trg = batch.trg\n",
        "\n",
        "            output = model(src, src_len, trg, 0) #turn off teacher forcing\n",
        "            \n",
        "            #trg = [trg len, batch size]\n",
        "            #output = [trg len, batch size, output dim]\n",
        "\n",
        "            output_dim = output.shape[-1]\n",
        "            \n",
        "            output = output[1:].view(-1, output_dim)\n",
        "            trg = trg[1:].view(-1)\n",
        "\n",
        "            #trg = [(trg len - 1) * batch size]\n",
        "            #output = [(trg len - 1) * batch size, output dim]\n",
        "\n",
        "            loss = criterion(output, trg)\n",
        "\n",
        "            epoch_loss += loss.item()\n",
        "        \n",
        "    return epoch_loss / len(iterator)"
      ],
      "metadata": {
        "id": "mI_YUjj6KNNa",
        "execution": {
          "iopub.status.busy": "2022-01-24T11:51:55.642980Z",
          "iopub.execute_input": "2022-01-24T11:51:55.645472Z",
          "iopub.status.idle": "2022-01-24T11:51:55.662007Z",
          "shell.execute_reply.started": "2022-01-24T11:51:55.645422Z",
          "shell.execute_reply": "2022-01-24T11:51:55.661144Z"
        },
        "trusted": true
      },
      "execution_count": 62,
      "outputs": []
    },
    {
      "cell_type": "markdown",
      "source": [
        "Then, we'll define a useful function for timing how long epochs take."
      ],
      "metadata": {
        "id": "B37TbyzbKNNa"
      }
    },
    {
      "cell_type": "code",
      "source": [
        "def epoch_time(start_time, end_time):\n",
        "    elapsed_time = end_time - start_time\n",
        "    elapsed_mins = int(elapsed_time / 60)\n",
        "    elapsed_secs = int(elapsed_time - (elapsed_mins * 60))\n",
        "    return elapsed_mins, elapsed_secs"
      ],
      "metadata": {
        "id": "E2dUf_L2KNNa",
        "execution": {
          "iopub.status.busy": "2022-01-24T11:51:55.666068Z",
          "iopub.execute_input": "2022-01-24T11:51:55.666264Z",
          "iopub.status.idle": "2022-01-24T11:51:55.676258Z",
          "shell.execute_reply.started": "2022-01-24T11:51:55.666240Z",
          "shell.execute_reply": "2022-01-24T11:51:55.675392Z"
        },
        "trusted": true
      },
      "execution_count": 63,
      "outputs": []
    },
    {
      "cell_type": "markdown",
      "source": [
        "Entrenem el model"
      ],
      "metadata": {
        "id": "rEL-pod4KNNb"
      }
    },
    {
      "cell_type": "code",
      "source": [
        "#%cd ~\n",
        "#import gc\n",
        "#gc.collect()"
      ],
      "metadata": {
        "id": "9VJt649cNfTX",
        "execution": {
          "iopub.status.busy": "2022-01-24T11:51:55.678096Z",
          "iopub.execute_input": "2022-01-24T11:51:55.678702Z",
          "iopub.status.idle": "2022-01-24T11:51:55.687399Z",
          "shell.execute_reply.started": "2022-01-24T11:51:55.678660Z",
          "shell.execute_reply": "2022-01-24T11:51:55.686269Z"
        },
        "trusted": true
      },
      "execution_count": 64,
      "outputs": []
    },
    {
      "cell_type": "code",
      "source": [
        "N_EPOCHS = 10\n",
        "CLIP = 1\n",
        "\n",
        "best_valid_loss = float('inf')\n",
        "\n",
        "val_losses = []\n",
        "train_losses = []\n",
        "\n",
        "\n",
        "for epoch in range(N_EPOCHS):\n",
        "    \n",
        "    start_time = time.time()\n",
        "    \n",
        "    train_loss = train(model, train_iterator, optimizer, criterion, CLIP)\n",
        "    valid_loss = evaluate(model, valid_iterator, criterion)\n",
        "    \n",
        "    end_time = time.time()\n",
        "    \n",
        "    epoch_mins, epoch_secs = epoch_time(start_time, end_time)\n",
        "    \n",
        "    if valid_loss < best_valid_loss:\n",
        "        best_valid_loss = valid_loss\n",
        "        best_valid_epoch = epoch\n",
        "        torch.save(model.state_dict(), 'rnn-model.pt')\n",
        "        #path = f\"{model_save_name}\" \n",
        "        #torch.save(model.state_dict(), path)\n",
        "\n",
        "    train_losses.append(train_loss)\n",
        "    val_losses.append(valid_loss)\n",
        "\n",
        "    \n",
        "    print(f'Epoch: {epoch+1:02} | Time: {epoch_mins}m {epoch_secs}s')\n",
        "    print(f'\\tTrain Loss: {train_loss:.3f} | Train PPL: {math.exp(train_loss):7.3f}')\n",
        "    print(f'\\t Val. Loss: {valid_loss:.3f} |  Val. PPL: {math.exp(valid_loss):7.3f}')\n",
        "print(f'Best epoch: {best_valid_epoch + 1}')"
      ],
      "metadata": {
        "id": "qBBcmbzjKNNb",
        "outputId": "95d24591-a7f7-41df-c145-1471e7751682",
        "execution": {
          "iopub.status.busy": "2022-01-24T11:51:55.692034Z",
          "iopub.execute_input": "2022-01-24T11:51:55.692890Z",
          "iopub.status.idle": "2022-01-24T12:10:40.109865Z",
          "shell.execute_reply.started": "2022-01-24T11:51:55.692853Z",
          "shell.execute_reply": "2022-01-24T12:10:40.109106Z"
        },
        "trusted": true,
        "colab": {
          "base_uri": "https://localhost:8080/"
        }
      },
      "execution_count": 65,
      "outputs": [
        {
          "output_type": "stream",
          "name": "stdout",
          "text": [
            "Epoch Step: 0 Batch Loss: 8.603 Batch Time: 0.299 s\n",
            "Epoch Step: 100 Batch Loss: 5.379 Batch Time: 0.038 s\n",
            "Epoch Step: 200 Batch Loss: 5.638 Batch Time: 0.035 s\n",
            "Epoch Step: 300 Batch Loss: 5.208 Batch Time: 0.043 s\n",
            "Epoch Step: 400 Batch Loss: 5.168 Batch Time: 0.039 s\n",
            "Epoch Step: 500 Batch Loss: 5.261 Batch Time: 0.045 s\n",
            "Epoch Step: 600 Batch Loss: 4.596 Batch Time: 0.028 s\n",
            "Epoch Step: 700 Batch Loss: 5.031 Batch Time: 0.046 s\n",
            "Epoch Step: 800 Batch Loss: 4.994 Batch Time: 0.044 s\n",
            "Epoch Step: 900 Batch Loss: 5.024 Batch Time: 0.052 s\n",
            "Epoch Step: 1000 Batch Loss: 4.557 Batch Time: 0.036 s\n",
            "Epoch Step: 1100 Batch Loss: 5.075 Batch Time: 0.052 s\n",
            "Epoch Step: 1200 Batch Loss: 4.378 Batch Time: 0.044 s\n",
            "Epoch Step: 1300 Batch Loss: 3.966 Batch Time: 0.023 s\n",
            "Epoch Step: 1400 Batch Loss: 4.560 Batch Time: 0.054 s\n",
            "Epoch Step: 1500 Batch Loss: 4.849 Batch Time: 0.075 s\n",
            "Epoch Step: 1600 Batch Loss: 4.727 Batch Time: 0.069 s\n",
            "Epoch Step: 1700 Batch Loss: 4.153 Batch Time: 0.042 s\n",
            "Epoch Step: 1800 Batch Loss: 3.492 Batch Time: 0.026 s\n",
            "Epoch Step: 1900 Batch Loss: 4.367 Batch Time: 0.048 s\n",
            "Epoch Step: 2000 Batch Loss: 4.336 Batch Time: 0.047 s\n",
            "Epoch Step: 2100 Batch Loss: 4.680 Batch Time: 0.048 s\n",
            "Epoch: 01 | Time: 2m 12s\n",
            "\tTrain Loss: 4.894 | Train PPL: 133.436\n",
            "\t Val. Loss: 4.782 |  Val. PPL: 119.301\n",
            "Epoch Step: 0 Batch Loss: 3.732 Batch Time: 0.031 s\n",
            "Epoch Step: 100 Batch Loss: 3.896 Batch Time: 0.035 s\n",
            "Epoch Step: 200 Batch Loss: 4.141 Batch Time: 0.030 s\n",
            "Epoch Step: 300 Batch Loss: 3.575 Batch Time: 0.036 s\n",
            "Epoch Step: 400 Batch Loss: 4.362 Batch Time: 0.065 s\n",
            "Epoch Step: 500 Batch Loss: 4.233 Batch Time: 0.050 s\n",
            "Epoch Step: 600 Batch Loss: 3.563 Batch Time: 0.032 s\n",
            "Epoch Step: 700 Batch Loss: 4.263 Batch Time: 0.049 s\n",
            "Epoch Step: 800 Batch Loss: 3.936 Batch Time: 0.044 s\n",
            "Epoch Step: 900 Batch Loss: 4.398 Batch Time: 0.060 s\n",
            "Epoch Step: 1000 Batch Loss: 4.511 Batch Time: 0.075 s\n",
            "Epoch Step: 1100 Batch Loss: 3.509 Batch Time: 0.038 s\n",
            "Epoch Step: 1200 Batch Loss: 3.691 Batch Time: 0.040 s\n",
            "Epoch Step: 1300 Batch Loss: 3.941 Batch Time: 0.037 s\n",
            "Epoch Step: 1400 Batch Loss: 4.438 Batch Time: 0.053 s\n",
            "Epoch Step: 1500 Batch Loss: 3.929 Batch Time: 0.044 s\n",
            "Epoch Step: 1600 Batch Loss: 4.259 Batch Time: 0.046 s\n",
            "Epoch Step: 1700 Batch Loss: 4.259 Batch Time: 0.053 s\n",
            "Epoch Step: 1800 Batch Loss: 4.436 Batch Time: 0.057 s\n",
            "Epoch Step: 1900 Batch Loss: 3.290 Batch Time: 0.021 s\n",
            "Epoch Step: 2000 Batch Loss: 2.887 Batch Time: 0.035 s\n",
            "Epoch Step: 2100 Batch Loss: 4.127 Batch Time: 0.051 s\n",
            "Epoch: 02 | Time: 2m 14s\n",
            "\tTrain Loss: 3.998 | Train PPL:  54.486\n",
            "\t Val. Loss: 4.399 |  Val. PPL:  81.366\n",
            "Epoch Step: 0 Batch Loss: 4.366 Batch Time: 0.080 s\n",
            "Epoch Step: 100 Batch Loss: 3.438 Batch Time: 0.044 s\n",
            "Epoch Step: 200 Batch Loss: 4.141 Batch Time: 0.078 s\n",
            "Epoch Step: 300 Batch Loss: 4.081 Batch Time: 0.074 s\n",
            "Epoch Step: 400 Batch Loss: 4.492 Batch Time: 0.069 s\n",
            "Epoch Step: 500 Batch Loss: 2.774 Batch Time: 0.037 s\n",
            "Epoch Step: 600 Batch Loss: 3.813 Batch Time: 0.053 s\n",
            "Epoch Step: 700 Batch Loss: 3.451 Batch Time: 0.042 s\n",
            "Epoch Step: 800 Batch Loss: 3.886 Batch Time: 0.072 s\n",
            "Epoch Step: 900 Batch Loss: 4.133 Batch Time: 0.043 s\n",
            "Epoch Step: 1000 Batch Loss: 3.740 Batch Time: 0.073 s\n",
            "Epoch Step: 1100 Batch Loss: 2.908 Batch Time: 0.031 s\n",
            "Epoch Step: 1200 Batch Loss: 4.180 Batch Time: 0.043 s\n",
            "Epoch Step: 1300 Batch Loss: 4.165 Batch Time: 0.075 s\n",
            "Epoch Step: 1400 Batch Loss: 3.072 Batch Time: 0.040 s\n",
            "Epoch Step: 1500 Batch Loss: 2.952 Batch Time: 0.052 s\n",
            "Epoch Step: 1600 Batch Loss: 3.005 Batch Time: 0.045 s\n",
            "Epoch Step: 1700 Batch Loss: 3.510 Batch Time: 0.056 s\n",
            "Epoch Step: 1800 Batch Loss: 3.793 Batch Time: 0.043 s\n",
            "Epoch Step: 1900 Batch Loss: 3.642 Batch Time: 0.042 s\n",
            "Epoch Step: 2000 Batch Loss: 4.350 Batch Time: 0.073 s\n",
            "Epoch Step: 2100 Batch Loss: 4.002 Batch Time: 0.070 s\n",
            "Epoch: 03 | Time: 2m 20s\n",
            "\tTrain Loss: 3.656 | Train PPL:  38.718\n",
            "\t Val. Loss: 4.282 |  Val. PPL:  72.411\n",
            "Epoch Step: 0 Batch Loss: 3.407 Batch Time: 0.052 s\n",
            "Epoch Step: 100 Batch Loss: 3.933 Batch Time: 0.051 s\n",
            "Epoch Step: 200 Batch Loss: 3.824 Batch Time: 0.061 s\n",
            "Epoch Step: 300 Batch Loss: 2.131 Batch Time: 0.031 s\n",
            "Epoch Step: 400 Batch Loss: 3.484 Batch Time: 0.055 s\n",
            "Epoch Step: 500 Batch Loss: 3.972 Batch Time: 0.082 s\n",
            "Epoch Step: 600 Batch Loss: 4.053 Batch Time: 0.054 s\n",
            "Epoch Step: 700 Batch Loss: 3.459 Batch Time: 0.045 s\n",
            "Epoch Step: 800 Batch Loss: 3.652 Batch Time: 0.074 s\n",
            "Epoch Step: 900 Batch Loss: 4.007 Batch Time: 0.055 s\n",
            "Epoch Step: 1000 Batch Loss: 4.125 Batch Time: 0.075 s\n",
            "Epoch Step: 1100 Batch Loss: 4.092 Batch Time: 0.064 s\n",
            "Epoch Step: 1200 Batch Loss: 3.922 Batch Time: 0.061 s\n",
            "Epoch Step: 1300 Batch Loss: 2.730 Batch Time: 0.031 s\n",
            "Epoch Step: 1400 Batch Loss: 4.262 Batch Time: 0.075 s\n",
            "Epoch Step: 1500 Batch Loss: 2.274 Batch Time: 0.023 s\n",
            "Epoch Step: 1600 Batch Loss: 3.826 Batch Time: 0.064 s\n",
            "Epoch Step: 1700 Batch Loss: 2.821 Batch Time: 0.041 s\n",
            "Epoch Step: 1800 Batch Loss: 3.415 Batch Time: 0.041 s\n",
            "Epoch Step: 1900 Batch Loss: 2.372 Batch Time: 0.027 s\n",
            "Epoch Step: 2000 Batch Loss: 2.965 Batch Time: 0.035 s\n",
            "Epoch Step: 2100 Batch Loss: 3.970 Batch Time: 0.071 s\n",
            "Epoch: 04 | Time: 2m 20s\n",
            "\tTrain Loss: 3.456 | Train PPL:  31.685\n",
            "\t Val. Loss: 4.122 |  Val. PPL:  61.713\n",
            "Epoch Step: 0 Batch Loss: 3.269 Batch Time: 0.054 s\n",
            "Epoch Step: 100 Batch Loss: 3.744 Batch Time: 0.071 s\n",
            "Epoch Step: 200 Batch Loss: 3.006 Batch Time: 0.038 s\n",
            "Epoch Step: 300 Batch Loss: 3.504 Batch Time: 0.050 s\n",
            "Epoch Step: 400 Batch Loss: 1.981 Batch Time: 0.023 s\n",
            "Epoch Step: 500 Batch Loss: 3.704 Batch Time: 0.067 s\n",
            "Epoch Step: 600 Batch Loss: 2.161 Batch Time: 0.030 s\n",
            "Epoch Step: 700 Batch Loss: 3.408 Batch Time: 0.046 s\n",
            "Epoch Step: 800 Batch Loss: 3.302 Batch Time: 0.040 s\n",
            "Epoch Step: 900 Batch Loss: 3.925 Batch Time: 0.094 s\n",
            "Epoch Step: 1000 Batch Loss: 2.754 Batch Time: 0.047 s\n",
            "Epoch Step: 1100 Batch Loss: 3.150 Batch Time: 0.046 s\n",
            "Epoch Step: 1200 Batch Loss: 3.749 Batch Time: 0.045 s\n",
            "Epoch Step: 1300 Batch Loss: 3.896 Batch Time: 0.075 s\n",
            "Epoch Step: 1400 Batch Loss: 3.748 Batch Time: 0.076 s\n",
            "Epoch Step: 1500 Batch Loss: 4.158 Batch Time: 0.069 s\n",
            "Epoch Step: 1600 Batch Loss: 2.012 Batch Time: 0.024 s\n",
            "Epoch Step: 1700 Batch Loss: 3.882 Batch Time: 0.067 s\n",
            "Epoch Step: 1800 Batch Loss: 3.651 Batch Time: 0.074 s\n",
            "Epoch Step: 1900 Batch Loss: 2.825 Batch Time: 0.045 s\n",
            "Epoch Step: 2000 Batch Loss: 2.359 Batch Time: 0.030 s\n",
            "Epoch Step: 2100 Batch Loss: 2.575 Batch Time: 0.036 s\n",
            "Epoch: 05 | Time: 2m 23s\n",
            "\tTrain Loss: 3.325 | Train PPL:  27.799\n",
            "\t Val. Loss: 4.026 |  Val. PPL:  56.012\n",
            "Epoch Step: 0 Batch Loss: 2.041 Batch Time: 0.029 s\n",
            "Epoch Step: 100 Batch Loss: 2.332 Batch Time: 0.032 s\n",
            "Epoch Step: 200 Batch Loss: 3.427 Batch Time: 0.061 s\n",
            "Epoch Step: 300 Batch Loss: 2.896 Batch Time: 0.053 s\n",
            "Epoch Step: 400 Batch Loss: 3.398 Batch Time: 0.047 s\n",
            "Epoch Step: 500 Batch Loss: 2.755 Batch Time: 0.035 s\n",
            "Epoch Step: 600 Batch Loss: 3.611 Batch Time: 0.064 s\n",
            "Epoch Step: 700 Batch Loss: 3.846 Batch Time: 0.078 s\n",
            "Epoch Step: 800 Batch Loss: 3.699 Batch Time: 0.066 s\n",
            "Epoch Step: 900 Batch Loss: 3.266 Batch Time: 0.047 s\n",
            "Epoch Step: 1000 Batch Loss: 3.785 Batch Time: 0.079 s\n",
            "Epoch Step: 1100 Batch Loss: 3.778 Batch Time: 0.067 s\n",
            "Epoch Step: 1200 Batch Loss: 3.296 Batch Time: 0.047 s\n",
            "Epoch Step: 1300 Batch Loss: 3.820 Batch Time: 0.070 s\n",
            "Epoch Step: 1400 Batch Loss: 3.710 Batch Time: 0.069 s\n",
            "Epoch Step: 1500 Batch Loss: 3.210 Batch Time: 0.044 s\n",
            "Epoch Step: 1600 Batch Loss: 2.262 Batch Time: 0.045 s\n",
            "Epoch Step: 1700 Batch Loss: 3.463 Batch Time: 0.043 s\n",
            "Epoch Step: 1800 Batch Loss: 3.915 Batch Time: 0.070 s\n",
            "Epoch Step: 1900 Batch Loss: 2.884 Batch Time: 0.040 s\n",
            "Epoch Step: 2000 Batch Loss: 3.352 Batch Time: 0.057 s\n",
            "Epoch Step: 2100 Batch Loss: 2.417 Batch Time: 0.037 s\n",
            "Epoch: 06 | Time: 2m 23s\n",
            "\tTrain Loss: 3.215 | Train PPL:  24.913\n",
            "\t Val. Loss: 4.037 |  Val. PPL:  56.644\n",
            "Epoch Step: 0 Batch Loss: 2.332 Batch Time: 0.032 s\n",
            "Epoch Step: 100 Batch Loss: 2.816 Batch Time: 0.057 s\n",
            "Epoch Step: 200 Batch Loss: 2.442 Batch Time: 0.032 s\n",
            "Epoch Step: 300 Batch Loss: 3.148 Batch Time: 0.038 s\n",
            "Epoch Step: 400 Batch Loss: 3.479 Batch Time: 0.040 s\n",
            "Epoch Step: 500 Batch Loss: 2.650 Batch Time: 0.035 s\n",
            "Epoch Step: 600 Batch Loss: 2.933 Batch Time: 0.039 s\n",
            "Epoch Step: 700 Batch Loss: 2.625 Batch Time: 0.048 s\n",
            "Epoch Step: 800 Batch Loss: 3.180 Batch Time: 0.062 s\n",
            "Epoch Step: 900 Batch Loss: 3.048 Batch Time: 0.054 s\n",
            "Epoch Step: 1000 Batch Loss: 3.686 Batch Time: 0.074 s\n",
            "Epoch Step: 1100 Batch Loss: 3.449 Batch Time: 0.063 s\n",
            "Epoch Step: 1200 Batch Loss: 3.698 Batch Time: 0.080 s\n",
            "Epoch Step: 1300 Batch Loss: 3.565 Batch Time: 0.065 s\n",
            "Epoch Step: 1400 Batch Loss: 2.730 Batch Time: 0.053 s\n",
            "Epoch Step: 1500 Batch Loss: 3.405 Batch Time: 0.068 s\n",
            "Epoch Step: 1600 Batch Loss: 3.556 Batch Time: 0.066 s\n",
            "Epoch Step: 1700 Batch Loss: 3.168 Batch Time: 0.056 s\n",
            "Epoch Step: 1800 Batch Loss: 2.326 Batch Time: 0.043 s\n",
            "Epoch Step: 1900 Batch Loss: 2.991 Batch Time: 0.050 s\n",
            "Epoch Step: 2000 Batch Loss: 3.513 Batch Time: 0.064 s\n",
            "Epoch Step: 2100 Batch Loss: 3.724 Batch Time: 0.103 s\n",
            "Epoch: 07 | Time: 2m 24s\n",
            "\tTrain Loss: 3.140 | Train PPL:  23.096\n",
            "\t Val. Loss: 3.986 |  Val. PPL:  53.860\n",
            "Epoch Step: 0 Batch Loss: 2.548 Batch Time: 0.047 s\n",
            "Epoch Step: 100 Batch Loss: 3.504 Batch Time: 0.058 s\n",
            "Epoch Step: 200 Batch Loss: 2.979 Batch Time: 0.049 s\n",
            "Epoch Step: 300 Batch Loss: 2.735 Batch Time: 0.042 s\n",
            "Epoch Step: 400 Batch Loss: 3.666 Batch Time: 0.071 s\n",
            "Epoch Step: 500 Batch Loss: 3.303 Batch Time: 0.062 s\n",
            "Epoch Step: 600 Batch Loss: 3.175 Batch Time: 0.048 s\n",
            "Epoch Step: 700 Batch Loss: 3.416 Batch Time: 0.061 s\n",
            "Epoch Step: 800 Batch Loss: 2.860 Batch Time: 0.046 s\n",
            "Epoch Step: 900 Batch Loss: 3.139 Batch Time: 0.065 s\n",
            "Epoch Step: 1000 Batch Loss: 3.207 Batch Time: 0.078 s\n",
            "Epoch Step: 1100 Batch Loss: 2.551 Batch Time: 0.035 s\n",
            "Epoch Step: 1200 Batch Loss: 2.304 Batch Time: 0.038 s\n",
            "Epoch Step: 1300 Batch Loss: 3.325 Batch Time: 0.064 s\n",
            "Epoch Step: 1400 Batch Loss: 3.347 Batch Time: 0.065 s\n",
            "Epoch Step: 1500 Batch Loss: 3.176 Batch Time: 0.048 s\n",
            "Epoch Step: 1600 Batch Loss: 2.974 Batch Time: 0.051 s\n",
            "Epoch Step: 1700 Batch Loss: 3.190 Batch Time: 0.050 s\n",
            "Epoch Step: 1800 Batch Loss: 3.262 Batch Time: 0.064 s\n",
            "Epoch Step: 1900 Batch Loss: 3.413 Batch Time: 0.065 s\n",
            "Epoch Step: 2000 Batch Loss: 3.545 Batch Time: 0.072 s\n",
            "Epoch Step: 2100 Batch Loss: 2.972 Batch Time: 0.049 s\n",
            "Epoch: 08 | Time: 2m 21s\n",
            "\tTrain Loss: 3.059 | Train PPL:  21.312\n",
            "\t Val. Loss: 3.978 |  Val. PPL:  53.395\n",
            "Epoch Step: 0 Batch Loss: 2.600 Batch Time: 0.034 s\n",
            "Epoch Step: 100 Batch Loss: 1.607 Batch Time: 0.031 s\n",
            "Epoch Step: 200 Batch Loss: 2.856 Batch Time: 0.039 s\n",
            "Epoch Step: 300 Batch Loss: 3.898 Batch Time: 0.067 s\n",
            "Epoch Step: 400 Batch Loss: 3.268 Batch Time: 0.052 s\n",
            "Epoch Step: 500 Batch Loss: 2.403 Batch Time: 0.038 s\n",
            "Epoch Step: 600 Batch Loss: 3.685 Batch Time: 0.077 s\n",
            "Epoch Step: 700 Batch Loss: 3.908 Batch Time: 0.079 s\n",
            "Epoch Step: 800 Batch Loss: 3.495 Batch Time: 0.033 s\n",
            "Epoch Step: 900 Batch Loss: 3.427 Batch Time: 0.058 s\n",
            "Epoch Step: 1000 Batch Loss: 3.423 Batch Time: 0.074 s\n",
            "Epoch Step: 1100 Batch Loss: 3.227 Batch Time: 0.055 s\n",
            "Epoch Step: 1200 Batch Loss: 3.094 Batch Time: 0.049 s\n",
            "Epoch Step: 1300 Batch Loss: 3.012 Batch Time: 0.065 s\n",
            "Epoch Step: 1400 Batch Loss: 3.539 Batch Time: 0.057 s\n",
            "Epoch Step: 1500 Batch Loss: 1.549 Batch Time: 0.024 s\n",
            "Epoch Step: 1600 Batch Loss: 2.823 Batch Time: 0.040 s\n",
            "Epoch Step: 1700 Batch Loss: 2.518 Batch Time: 0.043 s\n",
            "Epoch Step: 1800 Batch Loss: 2.971 Batch Time: 0.070 s\n",
            "Epoch Step: 1900 Batch Loss: 3.380 Batch Time: 0.073 s\n",
            "Epoch Step: 2000 Batch Loss: 2.741 Batch Time: 0.049 s\n",
            "Epoch Step: 2100 Batch Loss: 3.815 Batch Time: 0.077 s\n",
            "Epoch: 09 | Time: 2m 20s\n",
            "\tTrain Loss: 3.010 | Train PPL:  20.296\n",
            "\t Val. Loss: 3.979 |  Val. PPL:  53.466\n",
            "Epoch Step: 0 Batch Loss: 2.513 Batch Time: 0.033 s\n",
            "Epoch Step: 100 Batch Loss: 3.181 Batch Time: 0.058 s\n",
            "Epoch Step: 200 Batch Loss: 3.469 Batch Time: 0.051 s\n",
            "Epoch Step: 300 Batch Loss: 2.399 Batch Time: 0.036 s\n",
            "Epoch Step: 400 Batch Loss: 1.991 Batch Time: 0.027 s\n",
            "Epoch Step: 500 Batch Loss: 3.906 Batch Time: 0.077 s\n",
            "Epoch Step: 600 Batch Loss: 2.891 Batch Time: 0.042 s\n",
            "Epoch Step: 700 Batch Loss: 3.073 Batch Time: 0.061 s\n",
            "Epoch Step: 800 Batch Loss: 2.739 Batch Time: 0.042 s\n",
            "Epoch Step: 900 Batch Loss: 3.452 Batch Time: 0.064 s\n",
            "Epoch Step: 1000 Batch Loss: 3.116 Batch Time: 0.056 s\n",
            "Epoch Step: 1100 Batch Loss: 2.470 Batch Time: 0.032 s\n",
            "Epoch Step: 1200 Batch Loss: 3.534 Batch Time: 0.055 s\n",
            "Epoch Step: 1300 Batch Loss: 3.605 Batch Time: 0.078 s\n",
            "Epoch Step: 1400 Batch Loss: 3.358 Batch Time: 0.064 s\n",
            "Epoch Step: 1500 Batch Loss: 3.500 Batch Time: 0.063 s\n",
            "Epoch Step: 1600 Batch Loss: 3.177 Batch Time: 0.052 s\n",
            "Epoch Step: 1700 Batch Loss: 3.472 Batch Time: 0.057 s\n",
            "Epoch Step: 1800 Batch Loss: 3.579 Batch Time: 0.061 s\n",
            "Epoch Step: 1900 Batch Loss: 2.906 Batch Time: 0.042 s\n",
            "Epoch Step: 2000 Batch Loss: 3.356 Batch Time: 0.070 s\n",
            "Epoch Step: 2100 Batch Loss: 3.332 Batch Time: 0.058 s\n",
            "Epoch: 10 | Time: 2m 19s\n",
            "\tTrain Loss: 2.977 | Train PPL:  19.630\n",
            "\t Val. Loss: 3.949 |  Val. PPL:  51.879\n",
            "Best epoch: 10\n"
          ]
        }
      ]
    },
    {
      "cell_type": "code",
      "source": [
        "import matplotlib.pyplot as plt\n",
        "\n",
        "plt.figure(figsize=(10,5))\n",
        "plt.title(\"Training and Validation Loss\")\n",
        "plt.plot(val_losses,label=\"val\")\n",
        "plt.plot(train_losses,label=\"train\")\n",
        "plt.xlabel(\"epochs\")\n",
        "plt.ylabel(\"Loss\")\n",
        "plt.legend()\n",
        "plt.show()\n"
      ],
      "metadata": {
        "id": "uIUGPPJdQA4z",
        "outputId": "79bc77fe-7c4c-4876-cd90-9626148b90a8",
        "execution": {
          "iopub.status.busy": "2022-01-24T12:10:40.111020Z",
          "iopub.execute_input": "2022-01-24T12:10:40.111752Z",
          "iopub.status.idle": "2022-01-24T12:10:40.324256Z",
          "shell.execute_reply.started": "2022-01-24T12:10:40.111713Z",
          "shell.execute_reply": "2022-01-24T12:10:40.323598Z"
        },
        "trusted": true,
        "colab": {
          "base_uri": "https://localhost:8080/",
          "height": 350
        }
      },
      "execution_count": 66,
      "outputs": [
        {
          "output_type": "display_data",
          "data": {
            "image/png": "[encoded data removed]",
            "text/plain": [
              "<Figure size 720x360 with 1 Axes>"
            ]
          },
          "metadata": {
            "needs_background": "light"
          }
        }
      ]
    },
    {
      "cell_type": "markdown",
      "source": [
        "Carreguem els millors resultats de l'entrenament"
      ],
      "metadata": {
        "id": "adHfvToAKNNb"
      }
    },
    {
      "cell_type": "code",
      "source": [
        "#%cd ~\n",
        "model.load_state_dict(torch.load('rnn-model.pt'))\n",
        "\n",
        "test_loss = evaluate(model, test_iterator, criterion)\n",
        "perplexity = math.exp(test_loss)\n",
        "print(f'| Test Loss: {test_loss:.3f} | Test PPL: {perplexity:7.3f} |')"
      ],
      "metadata": {
        "id": "X_DQLEzxKNNc",
        "outputId": "fe24763a-0e0a-4dae-d598-594cd5f95b03",
        "execution": {
          "iopub.status.busy": "2022-01-24T12:10:40.325706Z",
          "iopub.execute_input": "2022-01-24T12:10:40.325959Z",
          "iopub.status.idle": "2022-01-24T12:10:40.676342Z",
          "shell.execute_reply.started": "2022-01-24T12:10:40.325925Z",
          "shell.execute_reply": "2022-01-24T12:10:40.675602Z"
        },
        "trusted": true,
        "colab": {
          "base_uri": "https://localhost:8080/"
        }
      },
      "execution_count": 67,
      "outputs": [
        {
          "output_type": "stream",
          "name": "stdout",
          "text": [
            "| Test Loss: 4.513 | Test PPL:  91.189 |\n"
          ]
        }
      ]
    },
    {
      "cell_type": "markdown",
      "source": [
        "## Predicions"
      ],
      "metadata": {
        "id": "zEYnPIYMKNNc"
      }
    },
    {
      "cell_type": "code",
      "source": [
        "def translate_sentence(sentence, src_field, trg_field, model, device, max_len = 50):\n",
        "\n",
        "    model.eval()\n",
        "        \n",
        "    if isinstance(sentence, str):\n",
        "      \n",
        "        nlp = spacy.load('en_core_web_sm')\n",
        "        tokens = [token.text.lower() for token in nlp(sentence)]\n",
        "    else:\n",
        "        tokens = [token.lower() for token in sentence]\n",
        "\n",
        "    tokens = [src_field.init_token] + tokens + [src_field.eos_token]\n",
        "        \n",
        "    src_indexes = [src_field.vocab.stoi[token] for token in tokens]\n",
        "    \n",
        "    src_tensor = torch.LongTensor(src_indexes).unsqueeze(1).to(device)\n",
        "\n",
        "    src_len = torch.LongTensor([len(src_indexes)])\n",
        "    \n",
        "    with torch.no_grad():\n",
        "        encoder_outputs, hidden = model.encoder(src_tensor, src_len)\n",
        "\n",
        "    mask = model.create_mask(src_tensor)\n",
        "        \n",
        "    trg_indexes = [trg_field.vocab.stoi[trg_field.init_token]]\n",
        "\n",
        "    attentions = torch.zeros(max_len, 1, len(src_indexes)).to(device)\n",
        "    \n",
        "    for i in range(max_len):\n",
        "\n",
        "        trg_tensor = torch.LongTensor([trg_indexes[-1]]).to(device)\n",
        "                \n",
        "        with torch.no_grad():\n",
        "            output, hidden, attention = model.decoder(trg_tensor, hidden, encoder_outputs, mask)\n",
        "\n",
        "        attentions[i] = attention\n",
        "            \n",
        "        pred_token = output.argmax(1).item()\n",
        "        \n",
        "        trg_indexes.append(pred_token)\n",
        "\n",
        "        if pred_token == trg_field.vocab.stoi[trg_field.eos_token]:\n",
        "            break\n",
        "    \n",
        "    trg_tokens = [trg_field.vocab.itos[i] for i in trg_indexes]\n",
        "    \n",
        "    return trg_tokens[1:], attentions[:len(trg_tokens)-1]"
      ],
      "metadata": {
        "id": "7Y-aZizBKNNc",
        "execution": {
          "iopub.status.busy": "2022-01-24T12:10:40.677771Z",
          "iopub.execute_input": "2022-01-24T12:10:40.678182Z",
          "iopub.status.idle": "2022-01-24T12:10:40.690926Z",
          "shell.execute_reply.started": "2022-01-24T12:10:40.678144Z",
          "shell.execute_reply": "2022-01-24T12:10:40.690088Z"
        },
        "trusted": true
      },
      "execution_count": 68,
      "outputs": []
    },
    {
      "cell_type": "code",
      "source": [
        "def display_attention(sentence, translation, attention):\n",
        "    \n",
        "    fig = plt.figure(figsize=(10,10))\n",
        "    ax = fig.add_subplot(111)\n",
        "    \n",
        "    attention = attention.squeeze(1).cpu().detach().numpy()\n",
        "    \n",
        "    cax = ax.matshow(attention, cmap='bone')\n",
        "   \n",
        "    ax.tick_params(labelsize=15)\n",
        "    if isinstance(sentence, str):\n",
        "        nlp = spacy.load('en_core_web_sm')\n",
        "        sentence = [token.text.lower() for token in nlp(sentence)]\n",
        "    else:\n",
        "        sentence = [token.lower() for token in sentence]\n",
        "\n",
        "    if isinstance(translation, str):\n",
        "        nlp = spacy.load('fr_core_news_sm')\n",
        "        translation = [token.text.lower() for token in nlp(translation)]\n",
        "    else:\n",
        "        translation = [token.lower() for token in translation]\n",
        "    x_ticks = [''] + ['<sos>'] + [t.lower() for t in sentence] + ['<eos>']\n",
        "    y_ticks = [''] + translation\n",
        "     \n",
        "    ax.set_xticklabels(x_ticks, rotation=90)\n",
        "    ax.set_yticklabels(y_ticks)\n",
        "\n",
        "    ax.xaxis.set_major_locator(ticker.MultipleLocator(1))\n",
        "    ax.yaxis.set_major_locator(ticker.MultipleLocator(1))\n",
        "\n",
        "    plt.show()\n",
        "    plt.close()"
      ],
      "metadata": {
        "id": "Glssvb5pKNNd",
        "execution": {
          "iopub.status.busy": "2022-01-24T12:10:40.692006Z",
          "iopub.execute_input": "2022-01-24T12:10:40.692652Z",
          "iopub.status.idle": "2022-01-24T12:10:40.707111Z",
          "shell.execute_reply.started": "2022-01-24T12:10:40.692610Z",
          "shell.execute_reply": "2022-01-24T12:10:40.706151Z"
        },
        "trusted": true
      },
      "execution_count": 69,
      "outputs": []
    },
    {
      "cell_type": "markdown",
      "source": [
        "## Visualitzation of src trg and attention matrix\n"
      ],
      "metadata": {
        "id": "75K-UMIyKNNh"
      }
    },
    {
      "cell_type": "code",
      "source": [
        "example_idx = 2\n",
        "\n",
        "src = vars(test_data.examples[example_idx])['src']\n",
        "trg = vars(test_data.examples[example_idx])['trg']\n",
        "print(f'src = {src}')\n",
        "print(f'trg = {trg}')\n",
        "print(len(src))\n",
        "print(len(trg))\n",
        "translation, attention = translate_sentence(src, SRC, TRG, model, device)\n",
        "\n",
        "\n",
        "print(f'predicted trg = {translation}')\n",
        "\n",
        "display_attention(src, translation, attention)"
      ],
      "metadata": {
        "id": "i1X80AxnKNNi",
        "outputId": "29a35b25-c7c5-428d-8425-479bb5f63e17",
        "execution": {
          "iopub.status.busy": "2022-01-24T12:10:40.708762Z",
          "iopub.execute_input": "2022-01-24T12:10:40.709093Z",
          "iopub.status.idle": "2022-01-24T12:10:40.983409Z",
          "shell.execute_reply.started": "2022-01-24T12:10:40.709052Z",
          "shell.execute_reply": "2022-01-24T12:10:40.982583Z"
        },
        "trusted": true,
        "colab": {
          "base_uri": "https://localhost:8080/",
          "height": 459
        }
      },
      "execution_count": 70,
      "outputs": [
        {
          "output_type": "stream",
          "name": "stdout",
          "text": [
            "src = ['oh', ',', 'oh', '!']\n",
            "trg = ['oh', ',', 'oh', '!']\n",
            "4\n",
            "4\n",
            "predicted trg = ['oh', '!', '<eos>']\n"
          ]
        },
        {
          "output_type": "display_data",
          "data": {
            "image/png": "[encoded data removed]",
            "text/plain": [
              "<Figure size 720x720 with 1 Axes>"
            ]
          },
          "metadata": {
            "needs_background": "light"
          }
        }
      ]
    },
    {
      "cell_type": "code",
      "source": [
        "example_idx = 50\n",
        "\n",
        "src = vars(test_data.examples[example_idx])['src']\n",
        "trg = vars(test_data.examples[example_idx])['trg']\n",
        "\n",
        "translation, attention = translate_sentence(src, SRC, TRG, model, device)\n",
        "\n",
        "print(f'src = {src}')\n",
        "print(f'trg = {trg}')\n",
        "print(f'predicted trg = {translation}')\n",
        "\n",
        "display_attention(src, translation, attention)"
      ],
      "metadata": {
        "id": "HEDUo5dDFj0O",
        "outputId": "d5840b9f-86f3-40b7-fed5-9206143c1e03",
        "execution": {
          "iopub.status.busy": "2022-01-24T12:10:40.988371Z",
          "iopub.execute_input": "2022-01-24T12:10:40.988700Z",
          "iopub.status.idle": "2022-01-24T12:10:41.468246Z",
          "shell.execute_reply.started": "2022-01-24T12:10:40.988658Z",
          "shell.execute_reply": "2022-01-24T12:10:41.467512Z"
        },
        "trusted": true,
        "colab": {
          "base_uri": "https://localhost:8080/",
          "height": 666
        }
      },
      "execution_count": 71,
      "outputs": [
        {
          "output_type": "stream",
          "name": "stdout",
          "text": [
            "src = ['there', 'is', 'one', 'other', 'point', 'i', 'should', 'like', 'to', 'make', ',', 'and', 'i', 'do', 'so', 'as', 'i', 'feel', 'this', 'is', 'a', 'general', 'debate', '.']\n",
            "trg = ['je', 'voudrais', 'préciser', 'un', 'autre', 'point', ',', 'et', 'je', 'le', 'fais', 'parce', 'que', 'je', 'estime', 'que', 'il', 'se', 'agit', 'de', 'un', 'débat', 'général', '.']\n",
            "predicted trg = ['je', 'dois', 'faire', 'un', 'autre', 'point', ',', 'je', 'dois', 'faire', ',', 'je', 'je', 'je', 'suis', 'je', ',', 'je', 'je', 'suis', 'un', 'débat', '.', '<eos>']\n"
          ]
        },
        {
          "output_type": "display_data",
          "data": {
            "image/png": "[encoded data removed]",
            "text/plain": [
              "<Figure size 720x720 with 1 Axes>"
            ]
          },
          "metadata": {
            "needs_background": "light"
          }
        }
      ]
    },
    {
      "cell_type": "markdown",
      "source": [
        "## BLEU\n",
        "\n",
        "Utilitzem funció bleu_score de torchtext"
      ],
      "metadata": {
        "id": "_-eQeQEiKNNi"
      }
    },
    {
      "cell_type": "code",
      "source": [
        "from torchtext.data.metrics import bleu_score\n",
        "\n",
        "def calculate_bleu(data, src_field, trg_field, model, device, max_len = 50):\n",
        "    \n",
        "    trgs = []\n",
        "    pred_trgs = []\n",
        "    i=0\n",
        "    for datum in data:\n",
        "        src = datum.src\n",
        "        trg = datum.trg\n",
        "        \n",
        "        pred_trg, _ = translate_sentence(src, src_field, trg_field, model, device, max_len)\n",
        "        \n",
        "        #cut off <eos> token\n",
        "        pred_trg = pred_trg[:-1]\n",
        "        \n",
        "        pred_trgs.append(pred_trg)\n",
        "        trgs.append([trg])\n",
        "        \n",
        "    return bleu_score(pred_trgs, trgs)"
      ],
      "metadata": {
        "id": "MZ-TeYZQKNNj",
        "execution": {
          "iopub.status.busy": "2022-01-24T12:10:41.469317Z",
          "iopub.execute_input": "2022-01-24T12:10:41.469865Z",
          "iopub.status.idle": "2022-01-24T12:10:41.477150Z",
          "shell.execute_reply.started": "2022-01-24T12:10:41.469825Z",
          "shell.execute_reply": "2022-01-24T12:10:41.476460Z"
        },
        "trusted": true
      },
      "execution_count": 72,
      "outputs": []
    },
    {
      "cell_type": "code",
      "source": [
        "bleu_score = calculate_bleu(test_data, SRC, TRG, model, device)\n",
        "print(f'BLEU score = {bleu_score*100:.2f}')"
      ],
      "metadata": {
        "id": "HzxoSWcwKNNj",
        "outputId": "4f7b9f4f-0f60-47a9-9052-c6fb1c5a37a5",
        "execution": {
          "iopub.status.busy": "2022-01-24T12:10:41.478488Z",
          "iopub.execute_input": "2022-01-24T12:10:41.479387Z",
          "iopub.status.idle": "2022-01-24T12:10:47.883097Z",
          "shell.execute_reply.started": "2022-01-24T12:10:41.479269Z",
          "shell.execute_reply": "2022-01-24T12:10:47.882123Z"
        },
        "trusted": true,
        "colab": {
          "base_uri": "https://localhost:8080/"
        }
      },
      "execution_count": 73,
      "outputs": [
        {
          "output_type": "stream",
          "name": "stdout",
          "text": [
            "BLEU score = 12.80\n"
          ]
        }
      ]
    },
    {
      "cell_type": "code",
      "source": [
        "bleu_result = F'{bleu_score*100:.2f}'\n",
        "test_loss_result = F'{test_loss:.2f}'\n",
        "print(f'BLEU score = {bleu_score*100:.2f}')"
      ],
      "metadata": {
        "id": "Urll_OciWAJ0",
        "outputId": "e039589c-3ee2-46a5-d23e-2c54b104d1cb",
        "execution": {
          "iopub.status.busy": "2022-01-24T12:10:47.884401Z",
          "iopub.execute_input": "2022-01-24T12:10:47.884652Z",
          "iopub.status.idle": "2022-01-24T12:10:47.889843Z",
          "shell.execute_reply.started": "2022-01-24T12:10:47.884626Z",
          "shell.execute_reply": "2022-01-24T12:10:47.889113Z"
        },
        "trusted": true,
        "colab": {
          "base_uri": "https://localhost:8080/"
        }
      },
      "execution_count": 74,
      "outputs": [
        {
          "output_type": "stream",
          "name": "stdout",
          "text": [
            "BLEU score = 12.80\n"
          ]
        }
      ]
    },
    {
      "cell_type": "markdown",
      "source": [
        "Guardem el model"
      ],
      "metadata": {
        "id": "xfuJv5kpKNNk"
      }
    },
    {
      "cell_type": "code",
      "source": [
        "#save model weigths\n",
        "\n",
        "#model_name = f'TFG_RNN_N{N}_bleu{bleu_result}_testloss{test_loss_result}_vocab{len(SRC.vocab)}_{len(TRG.vocab)}.pt'\n",
        "model_name = f'TFG_RNN_{N}_temp_vocab{len(SRC.vocab)}_{len(TRG.vocab)}.pt'\n",
        "path = f\"{model_name}\" \n",
        "torch.save(model.state_dict(), path)"
      ],
      "metadata": {
        "id": "ErKeSGWRLWbe",
        "execution": {
          "iopub.status.busy": "2022-01-24T12:10:47.891134Z",
          "iopub.execute_input": "2022-01-24T12:10:47.891909Z",
          "iopub.status.idle": "2022-01-24T12:10:47.916096Z",
          "shell.execute_reply.started": "2022-01-24T12:10:47.891871Z",
          "shell.execute_reply": "2022-01-24T12:10:47.915361Z"
        },
        "trusted": true
      },
      "execution_count": 75,
      "outputs": []
    },
    {
      "cell_type": "markdown",
      "source": [
        "# Gold standard scores AER "
      ],
      "metadata": {
        "id": "QeOdBl2MXh45"
      }
    },
    {
      "cell_type": "code",
      "source": [
        "!ls"
      ],
      "metadata": {
        "execution": {
          "iopub.status.busy": "2022-01-24T12:10:47.949701Z",
          "iopub.execute_input": "2022-01-24T12:10:47.950294Z",
          "iopub.status.idle": "2022-01-24T12:10:48.754787Z",
          "shell.execute_reply.started": "2022-01-24T12:10:47.950256Z",
          "shell.execute_reply": "2022-01-24T12:10:48.753875Z"
        },
        "trusted": true,
        "colab": {
          "base_uri": "https://localhost:8080/"
        },
        "id": "BuQYQzAdDOZw",
        "outputId": "2f6090c7-d62b-4320-dc34-ca11551f141b"
      },
      "execution_count": 76,
      "outputs": [
        {
          "output_type": "stream",
          "name": "stdout",
          "text": [
            "requirements.txt\t      TFG_RNN_100000_temp_vocab4723_5450.pt\n",
            "rnn-model.pt\t\t      training.e\n",
            "sample_data\t\t      training.f\n",
            "SRC_N100000_vocab4723_freq10  train.json\n",
            "test.e\t\t\t      TRG_N100000_vocab5450_freq10\n",
            "test.f\t\t\t      valid.json\n",
            "test.json\t\t      wa_check_align.pl\n",
            "test.wa.nonullalign\t      wa_eval_align.pl\n"
          ]
        }
      ]
    },
    {
      "cell_type": "code",
      "source": [
        "nonullalign_test_file = 'test.wa.nonullalign'\n",
        "\n",
        "nonullalign_test_text = open(nonullalign_test_file, encoding='utf8').read().split('\\n')"
      ],
      "metadata": {
        "id": "mlTsDB05mVq9",
        "execution": {
          "iopub.status.busy": "2022-01-24T12:10:48.758509Z",
          "iopub.execute_input": "2022-01-24T12:10:48.758748Z",
          "iopub.status.idle": "2022-01-24T12:10:48.767250Z",
          "shell.execute_reply.started": "2022-01-24T12:10:48.758717Z",
          "shell.execute_reply": "2022-01-24T12:10:48.766343Z"
        },
        "trusted": true
      },
      "execution_count": 77,
      "outputs": []
    },
    {
      "cell_type": "code",
      "source": [
        "colnames=['Snum', 'src_token', 'trg_token', 'Probability'] \n",
        "df_nonullalign = pd.read_csv(nonullalign_test_file, names=colnames, header=None, sep = '\\s+') \n",
        "df_nullalign = pd.read_csv(nonullalign_test_file, names=colnames, header=None, sep = '\\s+') "
      ],
      "metadata": {
        "id": "2BlW7UtYw_YM",
        "execution": {
          "iopub.status.busy": "2022-01-24T12:10:48.778827Z",
          "iopub.execute_input": "2022-01-24T12:10:48.779205Z",
          "iopub.status.idle": "2022-01-24T12:10:48.804581Z",
          "shell.execute_reply.started": "2022-01-24T12:10:48.779174Z",
          "shell.execute_reply": "2022-01-24T12:10:48.803884Z"
        },
        "trusted": true
      },
      "execution_count": 78,
      "outputs": []
    },
    {
      "cell_type": "code",
      "source": [
        "df_nonullalign.head()"
      ],
      "metadata": {
        "id": "mhY3eSDQA5Kx",
        "outputId": "0f524bfe-39c8-467c-b862-cf01908caef9",
        "execution": {
          "iopub.status.busy": "2022-01-24T12:10:48.805945Z",
          "iopub.execute_input": "2022-01-24T12:10:48.806395Z",
          "iopub.status.idle": "2022-01-24T12:10:48.817963Z",
          "shell.execute_reply.started": "2022-01-24T12:10:48.806357Z",
          "shell.execute_reply": "2022-01-24T12:10:48.817031Z"
        },
        "trusted": true,
        "colab": {
          "base_uri": "https://localhost:8080/",
          "height": 207
        }
      },
      "execution_count": 79,
      "outputs": [
        {
          "output_type": "execute_result",
          "data": {
            "text/html": [
              "\n",
              "  <div id=\"df-216aec8d-901e-4cd1-8c6f-d3c60e49babf\">\n",
              "    <div class=\"colab-df-container\">\n",
              "      <div>\n",
              "<style scoped>\n",
              "    .dataframe tbody tr th:only-of-type {\n",
              "        vertical-align: middle;\n",
              "    }\n",
              "\n",
              "    .dataframe tbody tr th {\n",
              "        vertical-align: top;\n",
              "    }\n",
              "\n",
              "    .dataframe thead th {\n",
              "        text-align: right;\n",
              "    }\n",
              "</style>\n",
              "<table border=\"1\" class=\"dataframe\">\n",
              "  <thead>\n",
              "    <tr style=\"text-align: right;\">\n",
              "      <th></th>\n",
              "      <th>Snum</th>\n",
              "      <th>src_token</th>\n",
              "      <th>trg_token</th>\n",
              "      <th>Probability</th>\n",
              "    </tr>\n",
              "  </thead>\n",
              "  <tbody>\n",
              "    <tr>\n",
              "      <th>0</th>\n",
              "      <td>1</td>\n",
              "      <td>1</td>\n",
              "      <td>1</td>\n",
              "      <td>S</td>\n",
              "    </tr>\n",
              "    <tr>\n",
              "      <th>1</th>\n",
              "      <td>1</td>\n",
              "      <td>2</td>\n",
              "      <td>2</td>\n",
              "      <td>S</td>\n",
              "    </tr>\n",
              "    <tr>\n",
              "      <th>2</th>\n",
              "      <td>2</td>\n",
              "      <td>1</td>\n",
              "      <td>1</td>\n",
              "      <td>S</td>\n",
              "    </tr>\n",
              "    <tr>\n",
              "      <th>3</th>\n",
              "      <td>2</td>\n",
              "      <td>2</td>\n",
              "      <td>2</td>\n",
              "      <td>S</td>\n",
              "    </tr>\n",
              "    <tr>\n",
              "      <th>4</th>\n",
              "      <td>3</td>\n",
              "      <td>1</td>\n",
              "      <td>1</td>\n",
              "      <td>S</td>\n",
              "    </tr>\n",
              "  </tbody>\n",
              "</table>\n",
              "</div>\n",
              "      <button class=\"colab-df-convert\" onclick=\"convertToInteractive('df-216aec8d-901e-4cd1-8c6f-d3c60e49babf')\"\n",
              "              title=\"Convert this dataframe to an interactive table.\"\n",
              "              style=\"display:none;\">\n",
              "        \n",
              "  <svg xmlns=\"http://www.w3.org/2000/svg\" height=\"24px\"viewBox=\"0 0 24 24\"\n",
              "       width=\"24px\">\n",
              "    <path d=\"M0 0h24v24H0V0z\" fill=\"none\"/>\n",
              "    <path d=\"M18.56 5.44l.94 2.06.94-2.06 2.06-.94-2.06-.94-.94-2.06-.94 2.06-2.06.94zm-11 1L8.5 8.5l.94-2.06 2.06-.94-2.06-.94L8.5 2.5l-.94 2.06-2.06.94zm10 10l.94 2.06.94-2.06 2.06-.94-2.06-.94-.94-2.06-.94 2.06-2.06.94z\"/><path d=\"M17.41 7.96l-1.37-1.37c-.4-.4-.92-.59-1.43-.59-.52 0-1.04.2-1.43.59L10.3 9.45l-7.72 7.72c-.78.78-.78 2.05 0 2.83L4 21.41c.39.39.9.59 1.41.59.51 0 1.02-.2 1.41-.59l7.78-7.78 2.81-2.81c.8-.78.8-2.07 0-2.86zM5.41 20L4 18.59l7.72-7.72 1.47 1.35L5.41 20z\"/>\n",
              "  </svg>\n",
              "      </button>\n",
              "      \n",
              "  <style>\n",
              "    .colab-df-container {\n",
              "      display:flex;\n",
              "      flex-wrap:wrap;\n",
              "      gap: 12px;\n",
              "    }\n",
              "\n",
              "    .colab-df-convert {\n",
              "      background-color: #E8F0FE;\n",
              "      border: none;\n",
              "      border-radius: 50%;\n",
              "      cursor: pointer;\n",
              "      display: none;\n",
              "      fill: #1967D2;\n",
              "      height: 32px;\n",
              "      padding: 0 0 0 0;\n",
              "      width: 32px;\n",
              "    }\n",
              "\n",
              "    .colab-df-convert:hover {\n",
              "      background-color: #E2EBFA;\n",
              "      box-shadow: 0px 1px 2px rgba(60, 64, 67, 0.3), 0px 1px 3px 1px rgba(60, 64, 67, 0.15);\n",
              "      fill: #174EA6;\n",
              "    }\n",
              "\n",
              "    [theme=dark] .colab-df-convert {\n",
              "      background-color: #3B4455;\n",
              "      fill: #D2E3FC;\n",
              "    }\n",
              "\n",
              "    [theme=dark] .colab-df-convert:hover {\n",
              "      background-color: #434B5C;\n",
              "      box-shadow: 0px 1px 3px 1px rgba(0, 0, 0, 0.15);\n",
              "      filter: drop-shadow(0px 1px 2px rgba(0, 0, 0, 0.3));\n",
              "      fill: #FFFFFF;\n",
              "    }\n",
              "  </style>\n",
              "\n",
              "      <script>\n",
              "        const buttonEl =\n",
              "          document.querySelector('#df-216aec8d-901e-4cd1-8c6f-d3c60e49babf button.colab-df-convert');\n",
              "        buttonEl.style.display =\n",
              "          google.colab.kernel.accessAllowed ? 'block' : 'none';\n",
              "\n",
              "        async function convertToInteractive(key) {\n",
              "          const element = document.querySelector('#df-216aec8d-901e-4cd1-8c6f-d3c60e49babf');\n",
              "          const dataTable =\n",
              "            await google.colab.kernel.invokeFunction('convertToInteractive',\n",
              "                                                     [key], {});\n",
              "          if (!dataTable) return;\n",
              "\n",
              "          const docLinkHtml = 'Like what you see? Visit the ' +\n",
              "            '<a target=\"_blank\" href=https://colab.research.google.com/notebooks/data_table.ipynb>data table notebook</a>'\n",
              "            + ' to learn more about interactive tables.';\n",
              "          element.innerHTML = '';\n",
              "          dataTable['output_type'] = 'display_data';\n",
              "          await google.colab.output.renderOutput(dataTable, element);\n",
              "          const docLink = document.createElement('div');\n",
              "          docLink.innerHTML = docLinkHtml;\n",
              "          element.appendChild(docLink);\n",
              "        }\n",
              "      </script>\n",
              "    </div>\n",
              "  </div>\n",
              "  "
            ],
            "text/plain": [
              "   Snum  src_token  trg_token Probability\n",
              "0     1          1          1           S\n",
              "1     1          2          2           S\n",
              "2     2          1          1           S\n",
              "3     2          2          2           S\n",
              "4     3          1          1           S"
            ]
          },
          "metadata": {},
          "execution_count": 79
        }
      ]
    },
    {
      "cell_type": "markdown",
      "source": [
        "Traducció forçada, per generar les matrius d'atenció sobre el gold standard o test"
      ],
      "metadata": {
        "id": "iTOhg3xPIhwk"
      }
    },
    {
      "cell_type": "code",
      "source": [
        "def translate_force_decode(sentence, target, src_field, trg_field, model, device, max_len = 50):\n",
        "\n",
        "    model.eval()\n",
        "    if isinstance(sentence, str):\n",
        "        nlp = spacy.load('en_core_web_sm')\n",
        "        tokens = [token.text.lower() for token in nlp(sentence)]\n",
        "    else:\n",
        "        tokens = [token.lower() for token in sentence]\n",
        "\n",
        "    if isinstance(target, str):\n",
        "        nlp = spacy.load('fr_core_news_sm')\n",
        "        target = [token.text.lower() for token in nlp(target)]\n",
        "    else:\n",
        "        target = [token.lower() for token in target]\n",
        "\n",
        "\n",
        "    tokens = [src_field.init_token] + tokens + [src_field.eos_token]\n",
        "    target = [trg_field.init_token] + target + [trg_field.eos_token]\n",
        "     \n",
        "    src_indexes = [src_field.vocab.stoi[token] for token in tokens]\n",
        "\n",
        "    trg_indexes = [trg_field.vocab.stoi[token] for token in target]\n",
        "\n",
        "    \n",
        "    src_tensor = torch.LongTensor(src_indexes).unsqueeze(1).to(device)\n",
        "\n",
        "    src_len = torch.LongTensor([len(src_indexes)])\n",
        "    \n",
        "    with torch.no_grad():\n",
        "        encoder_outputs, hidden = model.encoder(src_tensor, src_len)\n",
        "\n",
        "    mask = model.create_mask(src_tensor)\n",
        "        \n",
        "\n",
        "    attentions = torch.zeros(max_len, 1, len(src_indexes)).to(device)\n",
        "    \n",
        "    for i in range(max_len):\n",
        "        trg_tensor = torch.LongTensor([trg_indexes[i]]).to(device)\n",
        "                \n",
        "        with torch.no_grad():\n",
        "            output, hidden, attention = model.decoder(trg_tensor, hidden, encoder_outputs, mask)\n",
        "\n",
        "        attentions[i] = attention\n",
        "            \n",
        "        #pred_token = output.argmax(1).item()\n",
        "        \n",
        "        #trg_indexes.append(pred_token)\n",
        "\n",
        "        if trg_indexes[i] == trg_field.vocab.stoi[trg_field.eos_token]:\n",
        "            break\n",
        "\n",
        "    trg_tokens = [trg_field.vocab.itos[i] for i in trg_indexes]\n",
        "    \n",
        "    return target[1:], attentions[:len(trg_tokens)-1]"
      ],
      "metadata": {
        "id": "6K6vxHPOLbw_",
        "execution": {
          "iopub.status.busy": "2022-01-24T12:10:48.819840Z",
          "iopub.execute_input": "2022-01-24T12:10:48.820318Z",
          "iopub.status.idle": "2022-01-24T12:10:48.835544Z",
          "shell.execute_reply.started": "2022-01-24T12:10:48.820280Z",
          "shell.execute_reply": "2022-01-24T12:10:48.834815Z"
        },
        "trusted": true
      },
      "execution_count": 80,
      "outputs": []
    },
    {
      "cell_type": "code",
      "source": [
        "example_idx = 100\n",
        "# <s snum=0312> let 's think about that for just a moment .  </s>\n",
        "\n",
        "src = gold_test['English'][example_idx]\n",
        "trg = gold_test['French'][example_idx]\n",
        "\n",
        "translation, attention = translate_sentence(src, SRC, TRG, model, device)\n",
        "\n",
        "print(f'origin src = {src}')\n",
        "print(f'trg = {trg}')\n",
        "print(f'translation = {translation}')\n",
        "\n",
        "#display_attention(src, translation, attention)\n",
        "\n",
        "translation, attention = translate_force_decode(src, trg, SRC, TRG, model, device)\n",
        "print(f'forced translation = {translation}')\n",
        "\n",
        "display_attention(src, translation, attention)\n"
      ],
      "metadata": {
        "id": "LVHOIFtBLrc7",
        "outputId": "795a987e-665c-4e2b-997b-1699872c5854",
        "execution": {
          "iopub.status.busy": "2022-01-24T12:10:48.838716Z",
          "iopub.execute_input": "2022-01-24T12:10:48.839190Z",
          "iopub.status.idle": "2022-01-24T12:10:54.289601Z",
          "shell.execute_reply.started": "2022-01-24T12:10:48.839152Z",
          "shell.execute_reply": "2022-01-24T12:10:54.288812Z"
        },
        "trusted": true,
        "colab": {
          "base_uri": "https://localhost:8080/",
          "height": 707
        }
      },
      "execution_count": 81,
      "outputs": [
        {
          "output_type": "stream",
          "name": "stdout",
          "text": [
            "origin src = do not force a moratorium down our throats . \n",
            "trg = ne nous forcez pas à accepter un moratoire . \n",
            "translation = ['ne', 'ne', 'pas', 'pas', 'un', '<unk>', '<unk>', '.', '<eos>']\n",
            "forced translation = ['ne', 'nous', 'forcez', 'pas', 'à', 'accepter', 'un', 'moratoire', '.', '<eos>']\n"
          ]
        },
        {
          "output_type": "display_data",
          "data": {
            "image/png": "[encoded data removed]",
            "text/plain": [
              "<Figure size 720x720 with 1 Axes>"
            ]
          },
          "metadata": {
            "needs_background": "light"
          }
        }
      ]
    },
    {
      "cell_type": "markdown",
      "source": [
        "Transformem les atencions en un alineament amb un enfoc greedy"
      ],
      "metadata": {
        "id": "BpiN1yxqGmv4"
      }
    },
    {
      "cell_type": "code",
      "source": [
        "def greedy_sentence_alignment(snum, src, trg, attention, sure_threshold = 0.5, prob_threshold = 0.3, null_threshold = 0.1):\n",
        "    sentence_result = ''\n",
        "    attention = attention.squeeze(1).cpu().detach().numpy()\n",
        "    attention = attention[:-1, 1:-1]\n",
        "    attx, atty = attention.shape\n",
        "    snum+=1\n",
        "    snum_id = f'{snum:04}'\n",
        "\n",
        "    #max = np.argmax(attention, axis=1) \n",
        "    for idx in range(attx):\n",
        "        #greedy\n",
        "        best = 0\n",
        "        current = 0\n",
        "        trg_tkn = idx + 1\n",
        "        \n",
        "        for idy in range(atty):\n",
        "            current = attention[(idx,idy)]\n",
        "            src_tkn = idy + 1\n",
        "            \n",
        "            if best < current and null_threshold < current:\n",
        "                best = current\n",
        "                best_src_tkn = src_tkn\n",
        "       \n",
        "                if attention[(idx, idy)] > sure_threshold: \n",
        "                    align_prob = \"S\" \n",
        "                else:\n",
        "                    align_prob=\"P\"\n",
        "        if best > 0:\n",
        "            sentence_result += snum_id + \" \" + str(best_src_tkn) + \" \" + str(trg_tkn) + \" \" + align_prob + \"\\n\"\n",
        "    return sentence_result\n",
        "\n"
      ],
      "metadata": {
        "id": "4lTZz_IDs3a2",
        "execution": {
          "iopub.status.busy": "2022-01-24T12:10:54.292510Z",
          "iopub.execute_input": "2022-01-24T12:10:54.292761Z",
          "iopub.status.idle": "2022-01-24T12:10:54.301229Z",
          "shell.execute_reply.started": "2022-01-24T12:10:54.292734Z",
          "shell.execute_reply": "2022-01-24T12:10:54.300339Z"
        },
        "trusted": true
      },
      "execution_count": 82,
      "outputs": []
    },
    {
      "cell_type": "markdown",
      "source": [
        "Transformem les atencions en un alineament amb un enfoc basat en llindars"
      ],
      "metadata": {
        "id": "An3SX0xOGmHS"
      }
    },
    {
      "cell_type": "code",
      "source": [
        "def threshold_sentence_alignment(snum, src, trg, attention, sure_threshold = 0.4, prob_threshold = 0.3, null_threshold = 0.1):\n",
        "    sentence_result = ''\n",
        "    attention = attention.squeeze(1).cpu().detach().numpy()\n",
        "    attention = attention[:-1, 1:-1]\n",
        "    attx, atty = attention.shape\n",
        "    snum_id = f'{snum:04}'\n",
        "\n",
        "    #print(attention)\n",
        "    #print(attention.shape)\n",
        "\n",
        "    for idx in range(attx):\n",
        "        matches = 0\n",
        "        best = 0\n",
        "        current = 0 \n",
        "        trg_tkn = idx + 1\n",
        "\n",
        "        #threshold\n",
        "        for idy in range(atty):\n",
        "            current = attention[(idx,idy)]\n",
        "            src_tkn = idy + 1\n",
        "\n",
        "            if best < current and null_threshold < current:\n",
        "                best = current\n",
        "                best_src_tkn = src_tkn\n",
        "      \n",
        "            if attention[(idx, idy)] > sure_threshold: \n",
        "                matches+=1\n",
        "                align_prob = \"S\"\n",
        "\n",
        "                sentence_result += snum_id + \" \" + str(src_tkn) + \" \" + str(trg_tkn) + \" \" + align_prob + \"\\n\"\n",
        "\n",
        "            if sure_threshold > attention[(idx, idy)] and attention[(idx, idy)]  > prob_threshold: \n",
        "                matches+=1\n",
        "                align_prob = \"P\" \n",
        "                sentence_result += snum_id + \" \" + str(src_tkn) + \" \" + str(trg_tkn) + \" \" + align_prob + \"\\n\"\n",
        "\n",
        "            #if no match, try greedy aproach\n",
        "        if matches == 0:\n",
        "            align_prob = \"P\" \n",
        "            sentence_result += snum_id + \" \" + str(best_src_tkn) + \" \" + str(trg_tkn) + \" \" + align_prob + \"\\n\"\n",
        "\n",
        "\n",
        "    return sentence_result\n",
        "\n"
      ],
      "metadata": {
        "id": "PKnK94GuMxWr",
        "execution": {
          "iopub.status.busy": "2022-01-24T12:10:54.303214Z",
          "iopub.execute_input": "2022-01-24T12:10:54.303898Z",
          "iopub.status.idle": "2022-01-24T12:10:54.317047Z",
          "shell.execute_reply.started": "2022-01-24T12:10:54.303857Z",
          "shell.execute_reply": "2022-01-24T12:10:54.316152Z"
        },
        "trusted": true
      },
      "execution_count": 83,
      "outputs": []
    },
    {
      "cell_type": "code",
      "source": [
        "example_idx = 379\n",
        "# <s snum=0312> let 's think about that for just a moment .  </s>\n",
        "\n",
        "src = gold_test['English'][example_idx - 1]\n",
        "trg = gold_test['French'][example_idx - 1]\n",
        "\n",
        "translation, attention = translate_sentence(src, SRC, TRG, model, device)\n",
        "\n",
        "print(f'origin src = {src}')\n",
        "print(f'trg = {trg}')\n",
        "print(f'translation = {translation}')\n",
        "\n",
        "#display_attention(src, translation, attention)\n",
        "\n",
        "translation, attention = translate_force_decode(src, trg, SRC, TRG, model, device)\n",
        "print(f'forced translation = {translation}')\n",
        "\n",
        "display_attention(src, translation, attention)"
      ],
      "metadata": {
        "execution": {
          "iopub.status.busy": "2022-01-24T12:10:54.318634Z",
          "iopub.execute_input": "2022-01-24T12:10:54.319192Z",
          "iopub.status.idle": "2022-01-24T12:10:57.184513Z",
          "shell.execute_reply.started": "2022-01-24T12:10:54.319149Z",
          "shell.execute_reply": "2022-01-24T12:10:57.183488Z"
        },
        "trusted": true,
        "colab": {
          "base_uri": "https://localhost:8080/",
          "height": 717
        },
        "id": "j49Cs6tNDOZz",
        "outputId": "dabafe99-708f-4175-f8f5-e1c24da56344"
      },
      "execution_count": 84,
      "outputs": [
        {
          "output_type": "stream",
          "name": "stdout",
          "text": [
            "origin src = that is one major problem . \n",
            "trg = il se agit de un problème important . \n",
            "translation = ['ce', 'est', 'un', 'problème', 'problème', '.', '<eos>']\n",
            "forced translation = ['il', 'se', 'agit', 'de', 'un', 'problème', 'important', '.', '<eos>']\n"
          ]
        },
        {
          "output_type": "display_data",
          "data": {
            "image/png": "[encoded data removed]",
            "text/plain": [
              "<Figure size 720x720 with 1 Axes>"
            ]
          },
          "metadata": {
            "needs_background": "light"
          }
        }
      ]
    },
    {
      "cell_type": "code",
      "source": [
        "\n",
        "ouput = greedy_sentence_alignment(example_idx, src, trg, attention)\n",
        "print(src)\n",
        "print(trg)\n",
        "print(ouput)"
      ],
      "metadata": {
        "id": "ZYWHnQ3ruiPN",
        "outputId": "569ff660-03c8-4c58-ed66-5daf61a2b91f",
        "execution": {
          "iopub.status.busy": "2022-01-24T12:10:57.189305Z",
          "iopub.execute_input": "2022-01-24T12:10:57.191602Z",
          "iopub.status.idle": "2022-01-24T12:10:57.201601Z",
          "shell.execute_reply.started": "2022-01-24T12:10:57.191553Z",
          "shell.execute_reply": "2022-01-24T12:10:57.200498Z"
        },
        "trusted": true,
        "colab": {
          "base_uri": "https://localhost:8080/"
        }
      },
      "execution_count": 85,
      "outputs": [
        {
          "output_type": "stream",
          "name": "stdout",
          "text": [
            "that is one major problem . \n",
            "il se agit de un problème important . \n",
            "0380 1 1 S\n",
            "0380 2 2 P\n",
            "0380 4 3 P\n",
            "0380 4 4 P\n",
            "0380 4 5 S\n",
            "0380 4 6 S\n",
            "0380 4 7 S\n",
            "0380 5 8 P\n",
            "\n"
          ]
        }
      ]
    },
    {
      "cell_type": "code",
      "source": [
        "\n",
        "ouput = threshold_sentence_alignment(example_idx, src, trg, attention)\n",
        "print(src)\n",
        "print(trg)\n",
        "print(ouput)"
      ],
      "metadata": {
        "execution": {
          "iopub.status.busy": "2022-01-24T12:10:57.203055Z",
          "iopub.execute_input": "2022-01-24T12:10:57.203708Z",
          "iopub.status.idle": "2022-01-24T12:10:57.211493Z",
          "shell.execute_reply.started": "2022-01-24T12:10:57.203661Z",
          "shell.execute_reply": "2022-01-24T12:10:57.210417Z"
        },
        "trusted": true,
        "colab": {
          "base_uri": "https://localhost:8080/"
        },
        "id": "D2GZ9ophDOZ1",
        "outputId": "6dcd40d8-b48c-4581-fa65-1e8a33abc609"
      },
      "execution_count": 86,
      "outputs": [
        {
          "output_type": "stream",
          "name": "stdout",
          "text": [
            "that is one major problem . \n",
            "il se agit de un problème important . \n",
            "0379 1 1 S\n",
            "0379 2 2 P\n",
            "0379 4 3 S\n",
            "0379 4 4 S\n",
            "0379 4 5 S\n",
            "0379 4 6 S\n",
            "0379 5 6 P\n",
            "0379 4 7 S\n",
            "0379 4 8 P\n",
            "0379 5 8 S\n",
            "\n"
          ]
        }
      ]
    },
    {
      "cell_type": "code",
      "source": [
        "ouput = threshold_sentence_alignment(example_idx, src, trg, attention)\n",
        "print(src)\n",
        "print(ouput)"
      ],
      "metadata": {
        "id": "sKvvzOtSuiWW",
        "outputId": "62fd4230-fb14-4b55-985e-76e36373de4f",
        "execution": {
          "iopub.status.busy": "2022-01-24T12:10:57.213076Z",
          "iopub.execute_input": "2022-01-24T12:10:57.213366Z",
          "iopub.status.idle": "2022-01-24T12:10:57.220068Z",
          "shell.execute_reply.started": "2022-01-24T12:10:57.213327Z",
          "shell.execute_reply": "2022-01-24T12:10:57.219315Z"
        },
        "trusted": true,
        "colab": {
          "base_uri": "https://localhost:8080/"
        }
      },
      "execution_count": 87,
      "outputs": [
        {
          "output_type": "stream",
          "name": "stdout",
          "text": [
            "that is one major problem . \n",
            "0379 1 1 S\n",
            "0379 2 2 P\n",
            "0379 4 3 S\n",
            "0379 4 4 S\n",
            "0379 4 5 S\n",
            "0379 4 6 S\n",
            "0379 5 6 P\n",
            "0379 4 7 S\n",
            "0379 4 8 P\n",
            "0379 5 8 S\n",
            "\n"
          ]
        }
      ]
    },
    {
      "cell_type": "code",
      "source": [
        "example_idx = 378\n",
        "# <s snum=0312> let 's think about that for just a moment .  </s>\n",
        "\n",
        "src = test_data.examples[example_idx].src\n",
        "trg = test_data.examples[example_idx].trg\n",
        "\n",
        "translation, attention = translate_force_decode(src, trg, SRC, TRG, model, device)\n",
        "\n",
        "#print(train_data.examples[0].src)\n",
        "#print(train_data.examples[0].trg)\n",
        "\n",
        "ouput = threshold_sentence_alignment(example_idx, src, trg, attention)\n",
        "print(src, trg)\n",
        "print(ouput)"
      ],
      "metadata": {
        "id": "d33H8TZwuqwY",
        "outputId": "31a50f40-f5a6-4a60-ee0d-35f64c5c3c66",
        "execution": {
          "iopub.status.busy": "2022-01-24T12:10:57.221577Z",
          "iopub.execute_input": "2022-01-24T12:10:57.222101Z",
          "iopub.status.idle": "2022-01-24T12:10:57.242152Z",
          "shell.execute_reply.started": "2022-01-24T12:10:57.222059Z",
          "shell.execute_reply": "2022-01-24T12:10:57.241481Z"
        },
        "trusted": true,
        "colab": {
          "base_uri": "https://localhost:8080/"
        }
      },
      "execution_count": 88,
      "outputs": [
        {
          "output_type": "stream",
          "name": "stdout",
          "text": [
            "['that', 'is', 'one', 'major', 'problem', '.'] ['il', 'se', 'agit', 'de', 'un', 'problème', 'important', '.']\n",
            "0378 1 1 S\n",
            "0378 2 2 P\n",
            "0378 4 3 S\n",
            "0378 4 4 S\n",
            "0378 4 5 S\n",
            "0378 4 6 S\n",
            "0378 5 6 P\n",
            "0378 4 7 S\n",
            "0378 4 8 P\n",
            "0378 5 8 S\n",
            "\n"
          ]
        }
      ]
    },
    {
      "cell_type": "code",
      "source": [
        "example_idx = 378\n",
        "# <s snum=0312> let 's think about that for just a moment .  </s>\n",
        "\n",
        "src = test_data.examples[example_idx].src\n",
        "trg = test_data.examples[example_idx].trg\n",
        "\n",
        "translation, attention = translate_force_decode(src, trg, SRC, TRG, model, device)\n",
        "\n",
        "#print(train_data.examples[0].src)\n",
        "#print(train_data.examples[0].trg)\n",
        "\n",
        "ouput = greedy_sentence_alignment(example_idx, src, trg, attention)\n",
        "print(src, trg)\n",
        "print(ouput)"
      ],
      "metadata": {
        "id": "EdKWlEDlxway",
        "execution": {
          "iopub.status.busy": "2022-01-24T12:10:57.243106Z",
          "iopub.execute_input": "2022-01-24T12:10:57.243672Z",
          "iopub.status.idle": "2022-01-24T12:10:57.264509Z",
          "shell.execute_reply.started": "2022-01-24T12:10:57.243646Z",
          "shell.execute_reply": "2022-01-24T12:10:57.263731Z"
        },
        "trusted": true,
        "colab": {
          "base_uri": "https://localhost:8080/"
        },
        "outputId": "c0f78991-1cee-42d9-83af-5d8ea4ac8280"
      },
      "execution_count": 89,
      "outputs": [
        {
          "output_type": "stream",
          "name": "stdout",
          "text": [
            "['that', 'is', 'one', 'major', 'problem', '.'] ['il', 'se', 'agit', 'de', 'un', 'problème', 'important', '.']\n",
            "0379 1 1 S\n",
            "0379 2 2 P\n",
            "0379 4 3 P\n",
            "0379 4 4 P\n",
            "0379 4 5 S\n",
            "0379 4 6 S\n",
            "0379 4 7 S\n",
            "0379 5 8 P\n",
            "\n"
          ]
        }
      ]
    },
    {
      "cell_type": "code",
      "source": [
        "#def translate_force_decode(sentence, target, src_field, trg_field, model, device, max_len = 50):\n",
        "\n",
        "def file_alignment(src_data, SRC, TRG, model, device, sentence_alignment, prob_threshold = 0.5):\n",
        "    start_time = time.time()\n",
        "    results = []\n",
        "    snum = 0\n",
        "    index = 0\n",
        "    for pair in src_data:\n",
        "        index +=1\n",
        "        src = pair.src\n",
        "        trg = pair.trg\n",
        "\n",
        "        translation, attention = translate_force_decode(src, trg, SRC, TRG, model, device)\n",
        "\n",
        "        sentence = sentence_alignment(index, src, trg, attention, prob_threshold)\n",
        "        #print(sentence)\n",
        "        results.append(sentence)\n",
        "    end_time = time.time()\n",
        "    total_time = end_time - start_time\n",
        "    print(f\"Time: {total_time:.3f} s\")\n",
        "\n",
        "    return results\n",
        "\n"
      ],
      "metadata": {
        "id": "KlbZ1RMrTrFX",
        "execution": {
          "iopub.status.busy": "2022-01-24T12:10:57.266030Z",
          "iopub.execute_input": "2022-01-24T12:10:57.266562Z",
          "iopub.status.idle": "2022-01-24T12:10:57.274570Z",
          "shell.execute_reply.started": "2022-01-24T12:10:57.266521Z",
          "shell.execute_reply": "2022-01-24T12:10:57.273545Z"
        },
        "trusted": true
      },
      "execution_count": 90,
      "outputs": []
    },
    {
      "cell_type": "code",
      "source": [
        "\n",
        "#greedy_results = file_alignment(test_data, SRC, TRG, model, device, greedy_sentence_alignment, prob_threshold = 0.3)\n",
        "\n",
        "threshold_results = file_alignment(test_data, SRC, TRG, model, device, threshold_sentence_alignment, prob_threshold = 0.3)\n"
      ],
      "metadata": {
        "id": "Xqmxi_gtMxKB",
        "outputId": "feb047a1-cffd-474d-869a-e0225bd97c3e",
        "execution": {
          "iopub.status.busy": "2022-01-24T12:10:57.277052Z",
          "iopub.execute_input": "2022-01-24T12:10:57.278111Z",
          "iopub.status.idle": "2022-01-24T12:11:05.567039Z",
          "shell.execute_reply.started": "2022-01-24T12:10:57.277890Z",
          "shell.execute_reply": "2022-01-24T12:11:05.566125Z"
        },
        "trusted": true,
        "colab": {
          "base_uri": "https://localhost:8080/"
        }
      },
      "execution_count": 91,
      "outputs": [
        {
          "output_type": "stream",
          "name": "stdout",
          "text": [
            "Time: 8.237 s\n"
          ]
        }
      ]
    },
    {
      "cell_type": "code",
      "source": [
        "#save submission\n",
        "#write function TODO\n",
        "\n",
        "ALIGN_PATH = 'RNN_alignment_submission_file_100000.txt' \n",
        "\n",
        "\n",
        "with open(ALIGN_PATH , 'w') as writefile:\n",
        "    for alignment in threshold_results:\n",
        "        #print(alignment)\n",
        "        writefile.write(alignment)"
      ],
      "metadata": {
        "id": "lBllmLzlzEJV",
        "execution": {
          "iopub.status.busy": "2022-01-24T12:12:57.777396Z",
          "iopub.execute_input": "2022-01-24T12:12:57.777717Z",
          "iopub.status.idle": "2022-01-24T12:12:57.784886Z",
          "shell.execute_reply.started": "2022-01-24T12:12:57.777682Z",
          "shell.execute_reply": "2022-01-24T12:12:57.784138Z"
        },
        "trusted": true
      },
      "execution_count": 92,
      "outputs": []
    },
    {
      "cell_type": "markdown",
      "source": [
        "# AER alignment error rates\n"
      ],
      "metadata": {
        "id": "mYC9kxby9Q8H"
      }
    },
    {
      "cell_type": "code",
      "source": [
        "wa_check_path = 'wa_check_align.pl' \n",
        "wa_eval_path = 'wa_eval_align.pl'\n",
        "\n",
        "wa_check = open(wa_check_path, encoding='utf8')\n",
        "wa_eval = open(wa_eval_path, encoding='utf8')"
      ],
      "metadata": {
        "id": "Tw1tNEBsyaVj",
        "execution": {
          "iopub.status.busy": "2022-01-24T12:13:03.349346Z",
          "iopub.execute_input": "2022-01-24T12:13:03.349634Z",
          "iopub.status.idle": "2022-01-24T12:13:03.354664Z",
          "shell.execute_reply.started": "2022-01-24T12:13:03.349604Z",
          "shell.execute_reply": "2022-01-24T12:13:03.353776Z"
        },
        "trusted": true
      },
      "execution_count": 93,
      "outputs": []
    },
    {
      "cell_type": "code",
      "source": [
        "%%bash\n",
        "\n",
        "perl 'wa_check_align.pl' 'RNN_alignment_submission_file_100000.txt' "
      ],
      "metadata": {
        "id": "GaIlnX-jcK6u",
        "outputId": "a24b3202-a5e5-43cc-f83c-854a4a23fbc7",
        "execution": {
          "iopub.status.busy": "2022-01-24T12:13:04.244669Z",
          "iopub.execute_input": "2022-01-24T12:13:04.245383Z",
          "iopub.status.idle": "2022-01-24T12:13:04.468990Z",
          "shell.execute_reply.started": "2022-01-24T12:13:04.245331Z",
          "shell.execute_reply": "2022-01-24T12:13:04.468165Z"
        },
        "trusted": true,
        "colab": {
          "base_uri": "https://localhost:8080/"
        }
      },
      "execution_count": 94,
      "outputs": [
        {
          "output_type": "stream",
          "name": "stdout",
          "text": [
            "File format is OK.\n"
          ]
        }
      ]
    },
    {
      "cell_type": "code",
      "source": [
        "%%bash\n",
        "perl 'wa_check_align.pl' 'test.wa.nonullalign'"
      ],
      "metadata": {
        "id": "EbmR3DYS9WvU",
        "outputId": "43dde685-83e8-445d-b105-e8edd6c1e687",
        "execution": {
          "iopub.status.busy": "2022-01-24T12:13:04.701756Z",
          "iopub.execute_input": "2022-01-24T12:13:04.702604Z",
          "iopub.status.idle": "2022-01-24T12:13:04.927449Z",
          "shell.execute_reply.started": "2022-01-24T12:13:04.702556Z",
          "shell.execute_reply": "2022-01-24T12:13:04.926610Z"
        },
        "trusted": true,
        "colab": {
          "base_uri": "https://localhost:8080/"
        }
      },
      "execution_count": 95,
      "outputs": [
        {
          "output_type": "stream",
          "name": "stdout",
          "text": [
            "File format is OK.\n"
          ]
        }
      ]
    },
    {
      "cell_type": "code",
      "source": [
        "%%bash\n",
        "perl 'wa_eval_align.pl' 'test.wa.nonullalign' 'RNN_alignment_submission_file_100000.txt' "
      ],
      "metadata": {
        "id": "Y2rzNw3YAafI",
        "outputId": "0a750457-494b-48e6-acbb-3a06415172b4",
        "execution": {
          "iopub.status.busy": "2022-01-24T12:13:05.638871Z",
          "iopub.execute_input": "2022-01-24T12:13:05.639361Z",
          "iopub.status.idle": "2022-01-24T12:13:05.891051Z",
          "shell.execute_reply.started": "2022-01-24T12:13:05.639321Z",
          "shell.execute_reply": "2022-01-24T12:13:05.890198Z"
        },
        "trusted": true,
        "colab": {
          "base_uri": "https://localhost:8080/"
        }
      },
      "execution_count": 96,
      "outputs": [
        {
          "output_type": "stream",
          "name": "stdout",
          "text": [
            "\n",
            "The following results assume correct file formats.\n",
            "Make sure you have previously checked the file format\n",
            "using wa_check_submission.pl\n",
            "\n",
            "\n",
            "    Word Alignment Evaluation   \n",
            "----------------------------------\n",
            "   Evaluation of SURE alignments \n",
            "   Precision = 0.1676  \n",
            "   Recall    = 0.2613\n",
            "   F-measure = 0.2042\n",
            "-----------------------------------\n",
            "   Evaluation of PROBABLE alignments\n",
            "   Precision = 0.4192\n",
            "   Recall    = 0.2055\n",
            "   F-measure = 0.2758\n",
            "-----------------------------------\n",
            "   AER       = 0.6173\n"
          ]
        }
      ]
    },
    {
      "cell_type": "markdown",
      "source": [
        "# Compare gold alignment vs attention alignment"
      ],
      "metadata": {
        "id": "SyuT_ge3xltd"
      }
    },
    {
      "cell_type": "code",
      "source": [
        "\n",
        "\n",
        "alignment_submission_file = 'RNN_alignment_submission_file_100000.txt' \n",
        "\n",
        "alignment_submission_text = open(alignment_submission_file, encoding='utf8').read().split('\\n')\n",
        "\n",
        "colnames=['Snum', 'src_token', 'trg_token', 'Probability'] \n",
        "df_submissionalign = pd.read_csv(alignment_submission_file, names=colnames, header=None, sep = '\\s+') \n",
        "\n",
        "len(df_submissionalign)"
      ],
      "metadata": {
        "id": "42Y47oonpOzm",
        "outputId": "8d01cdae-1ad0-4610-dae3-f915c9588613",
        "execution": {
          "iopub.status.busy": "2022-01-24T12:13:10.076882Z",
          "iopub.execute_input": "2022-01-24T12:13:10.077728Z",
          "iopub.status.idle": "2022-01-24T12:13:10.097229Z",
          "shell.execute_reply.started": "2022-01-24T12:13:10.077684Z",
          "shell.execute_reply": "2022-01-24T12:13:10.096540Z"
        },
        "trusted": true,
        "colab": {
          "base_uri": "https://localhost:8080/"
        }
      },
      "execution_count": 97,
      "outputs": [
        {
          "output_type": "execute_result",
          "data": {
            "text/plain": [
              "8550"
            ]
          },
          "metadata": {},
          "execution_count": 97
        }
      ]
    },
    {
      "cell_type": "code",
      "source": [
        "alignment_gold_file = 'test.wa.nonullalign'\n",
        "\n",
        "alignment_gold_text = open(alignment_gold_file, encoding='utf8').read().split('\\n')\n",
        "\n",
        "colnames=['Snum', 'src_token', 'trg_token', 'Probability'] \n",
        "df_goldalign = pd.read_csv(alignment_gold_file, names=colnames, header=None, sep = '\\s+') \n",
        "\n",
        "print(len(df_goldalign))"
      ],
      "metadata": {
        "id": "RtYDUHXlpPiF",
        "outputId": "a87b1bcd-77f7-4524-b6cf-8777b4d8b2db",
        "execution": {
          "iopub.status.busy": "2022-01-24T12:13:13.455965Z",
          "iopub.execute_input": "2022-01-24T12:13:13.456717Z",
          "iopub.status.idle": "2022-01-24T12:13:13.477855Z",
          "shell.execute_reply.started": "2022-01-24T12:13:13.456677Z",
          "shell.execute_reply": "2022-01-24T12:13:13.477096Z"
        },
        "trusted": true,
        "colab": {
          "base_uri": "https://localhost:8080/"
        }
      },
      "execution_count": 98,
      "outputs": [
        {
          "output_type": "stream",
          "name": "stdout",
          "text": [
            "17438\n"
          ]
        }
      ]
    },
    {
      "cell_type": "code",
      "source": [
        "def get_alignment_matrix(src_len, trg_len, id, align_dataframe):\n",
        "    align_matrix = np.zeros( (src_len,trg_len) )\n",
        "    align_sentence = align_dataframe(align_dataframe['Snum'] == id)\n",
        "\n",
        "    for x in range(src_len): \n",
        "        for y in range(trg_len):\n",
        "            prob = align_dataframe['Probability'].where(align_sentence['src_token'] == x and align_sentence['trg_token'] == y)\n",
        "            if prob == 'S':\n",
        "                align_matrix[x][y] = 1\n",
        "            if prob == 'P':\n",
        "                align_matrix[x][y] = 0.5\n",
        "    return align_matrix"
      ],
      "metadata": {
        "id": "lIQj52g8ds99",
        "execution": {
          "iopub.status.busy": "2022-01-24T12:13:14.348833Z",
          "iopub.execute_input": "2022-01-24T12:13:14.349509Z",
          "iopub.status.idle": "2022-01-24T12:13:14.355461Z",
          "shell.execute_reply.started": "2022-01-24T12:13:14.349464Z",
          "shell.execute_reply": "2022-01-24T12:13:14.354734Z"
        },
        "trusted": true
      },
      "execution_count": 99,
      "outputs": []
    },
    {
      "cell_type": "code",
      "source": [
        "def display_alignment(src, trg, alignment_matrix):\n",
        "    \n",
        "    fig = plt.figure(figsize=(10,10))\n",
        "    ax = fig.add_subplot(111)\n",
        "        \n",
        "    cay = ax.matshow(alignment_matrix, cmap='bone')\n",
        "   \n",
        "    ax.tick_params(labelsize=15)\n",
        "\n",
        "    x_ticks = [''] + src\n",
        "    y_ticks = [''] + trg\n",
        "     \n",
        "    ax.set_xticklabels(x_ticks, rotation=90)\n",
        "    ax.set_yticklabels(y_ticks)\n",
        "\n",
        "    ax.xaxis.set_major_locator(ticker.MultipleLocator(1))\n",
        "    ax.yaxis.set_major_locator(ticker.MultipleLocator(1))\n",
        "\n",
        "    plt.show()\n",
        "    plt.close()"
      ],
      "metadata": {
        "id": "-qyTjci183si",
        "execution": {
          "iopub.status.busy": "2022-01-24T12:13:17.953814Z",
          "iopub.execute_input": "2022-01-24T12:13:17.954558Z",
          "iopub.status.idle": "2022-01-24T12:13:17.961260Z",
          "shell.execute_reply.started": "2022-01-24T12:13:17.954518Z",
          "shell.execute_reply": "2022-01-24T12:13:17.960254Z"
        },
        "trusted": true
      },
      "execution_count": 100,
      "outputs": []
    },
    {
      "cell_type": "code",
      "source": [
        "id = 37\n",
        "align_dataframe = df_goldalign\n",
        "\n",
        "\n",
        "src = gold_test['English_token'][id]\n",
        "trg = gold_test['French_token'][id]\n",
        "\n",
        "src_len = gold_test['English_token_len'][id]\n",
        "trg_len = gold_test['French_token_len'][id]\n",
        "#print(trg, src)\n",
        "\n",
        "#print(trg_len, src_len)\n",
        "alignment_matrix = np.zeros( (trg_len, src_len) )\n",
        "#print(alignment_matrix)\n",
        "\n",
        "snum_align_dataframe = align_dataframe.set_index(['Snum'])\n",
        "\n",
        "snum_align_dataframe_id = snum_align_dataframe.loc[id+1]\n",
        "#print(snum_align_dataframe_id)\n",
        "\n",
        "for index, row in snum_align_dataframe_id.iterrows():\n",
        "    x = row['trg_token']-1\n",
        "    y = row['src_token']-1\n",
        "    if row['Probability'] == 'S':\n",
        "        value = 1.0\n",
        "    if row['Probability'] == 'P':\n",
        "        value = 0.5\n",
        "    #print(x,y,value)\n",
        "    alignment_matrix[x,y] = value\n",
        "\n",
        "#print(alignment_matrix)\n",
        "display_alignment(src, trg, alignment_matrix)\n"
      ],
      "metadata": {
        "id": "NH49bDnFsiN_",
        "outputId": "eafcde58-528d-4de0-9a76-bed8edca32ca",
        "execution": {
          "iopub.status.busy": "2022-01-24T12:13:18.848637Z",
          "iopub.execute_input": "2022-01-24T12:13:18.849252Z",
          "iopub.status.idle": "2022-01-24T12:13:21.498075Z",
          "shell.execute_reply.started": "2022-01-24T12:13:18.849210Z",
          "shell.execute_reply": "2022-01-24T12:13:21.497237Z"
        },
        "trusted": true,
        "colab": {
          "base_uri": "https://localhost:8080/",
          "height": 647
        }
      },
      "execution_count": 106,
      "outputs": [
        {
          "output_type": "display_data",
          "data": {
            "image/png": "[encoded data removed]",
            "text/plain": [
              "<Figure size 720x720 with 1 Axes>"
            ]
          },
          "metadata": {
            "needs_background": "light"
          }
        }
      ]
    },
    {
      "cell_type": "code",
      "source": [
        "id = 37\n",
        "align_dataframe = df_submissionalign\n",
        "\n",
        "\n",
        "src = gold_test['English_token'][id]\n",
        "trg = gold_test['French_token'][id]\n",
        "\n",
        "src_len = gold_test['English_token_len'][id]\n",
        "trg_len = gold_test['French_token_len'][id]\n",
        "#print(src, trg)\n",
        "\n",
        "#print(trg_len,src_len)\n",
        "alignment_matrix = np.zeros( (trg_len, src_len) )\n",
        "#print(alignment_matrix)\n",
        "\n",
        "snum_align_dataframe = align_dataframe.set_index(['Snum'])\n",
        "\n",
        "snum_align_dataframe_id = snum_align_dataframe.loc[id+1]\n",
        "#print(snum_align_dataframe_id)\n",
        "\n",
        "for index, row in snum_align_dataframe_id.iterrows():\n",
        "    x = row['trg_token']-1\n",
        "    y = row['src_token']-1\n",
        "    if row['Probability'] == 'S':\n",
        "        value = 1.0\n",
        "    if row['Probability'] == 'P':\n",
        "        value = 0.5\n",
        "    #print(x,y,value)\n",
        "    alignment_matrix[x,y] = value\n",
        "\n",
        "#print(alignment_matrix)\n",
        "display_alignment(src, trg, alignment_matrix)"
      ],
      "metadata": {
        "id": "-1wbZfDtl0LO",
        "outputId": "566ee1b6-9ba3-4480-9b0c-5d113b43011d",
        "execution": {
          "iopub.status.busy": "2022-01-24T12:13:21.503124Z",
          "iopub.execute_input": "2022-01-24T12:13:21.503420Z",
          "iopub.status.idle": "2022-01-24T12:13:21.778462Z",
          "shell.execute_reply.started": "2022-01-24T12:13:21.503374Z",
          "shell.execute_reply": "2022-01-24T12:13:21.777648Z"
        },
        "trusted": true,
        "colab": {
          "base_uri": "https://localhost:8080/",
          "height": 647
        }
      },
      "execution_count": 107,
      "outputs": [
        {
          "output_type": "display_data",
          "data": {
            "image/png": "[encoded data removed]",
            "text/plain": [
              "<Figure size 720x720 with 1 Axes>"
            ]
          },
          "metadata": {
            "needs_background": "light"
          }
        }
      ]
    },
    {
      "cell_type": "code",
      "source": [
        "example_idx = 38\n",
        "# <s snum=0312> let 's think about that for just a moment .  </s>\n",
        "\n",
        "src = gold_test['English'][example_idx - 1]\n",
        "trg = gold_test['French'][example_idx - 1]\n",
        "\n",
        "translation, attention = translate_sentence(src, SRC, TRG, model, device)\n",
        "\n",
        "print(f'origin src = {src}')\n",
        "print(f'trg = {trg}')\n",
        "print(f'translation = {translation}')\n",
        "\n",
        "#display_attention(src, translation, attention)\n",
        "\n",
        "translation, attention = translate_force_decode(src, trg, SRC, TRG, model, device)\n",
        "print(f'forced translation = {translation}')\n",
        "\n",
        "display_attention(src, translation, attention)"
      ],
      "metadata": {
        "colab": {
          "base_uri": "https://localhost:8080/",
          "height": 716
        },
        "id": "0B8fWDuUL8_M",
        "outputId": "c5b95ab7-8033-46ed-f35d-064d855ac18d"
      },
      "execution_count": 109,
      "outputs": [
        {
          "output_type": "stream",
          "name": "stdout",
          "text": [
            "origin src = Mr. Speaker , no decision has been reached as yet but I should think so . \n",
            "trg = monsieur le président , la décision ne est pas prise à ce moment - ci , mais je imagine que ce est oui . \n",
            "translation = ['monsieur', 'le', 'président', ',', 'non', ',', 'il', 'ne', 'a', 'pas', 'été', ',', 'mais', 'je', 'crois', 'que', 'je', 'crois', '.', '<eos>']\n",
            "forced translation = ['monsieur', 'le', 'président', ',', 'la', 'décision', 'ne', 'est', 'pas', 'prise', 'à', 'ce', 'moment', '-', 'ci', ',', 'mais', 'je', 'imagine', 'que', 'ce', 'est', 'oui', '.', '<eos>']\n"
          ]
        },
        {
          "output_type": "display_data",
          "data": {
            "image/png": "[encoded data removed]",
            "text/plain": [
              "<Figure size 720x720 with 1 Axes>"
            ]
          },
          "metadata": {
            "needs_background": "light"
          }
        }
      ]
    },
    {
      "cell_type": "markdown",
      "source": [
        " <a href= 'RNN_alignment_submission_file.txt' > Download submission </a>\n",
        "\n",
        " <a href= 'requirements.txt' > Download Requirements </a>\n",
        " \n",
        " <a href= 'rnn-model.pt' > Download Model </a>\n"
      ],
      "metadata": {
        "id": "NxSvYH9_DOZ9"
      }
    },
    {
      "cell_type": "code",
      "source": [
        "import torch;\n",
        "torch.__version__"
      ],
      "metadata": {
        "execution": {
          "iopub.status.busy": "2022-01-24T12:17:55.285705Z",
          "iopub.execute_input": "2022-01-24T12:17:55.286381Z",
          "iopub.status.idle": "2022-01-24T12:17:55.292024Z",
          "shell.execute_reply.started": "2022-01-24T12:17:55.286332Z",
          "shell.execute_reply": "2022-01-24T12:17:55.291363Z"
        },
        "trusted": true,
        "colab": {
          "base_uri": "https://localhost:8080/",
          "height": 35
        },
        "id": "MBn355YVDOZ9",
        "outputId": "8f86db86-9c7e-429d-c99a-13616c09e2aa"
      },
      "execution_count": 104,
      "outputs": [
        {
          "output_type": "execute_result",
          "data": {
            "application/vnd.google.colaboratory.intrinsic+json": {
              "type": "string"
            },
            "text/plain": [
              "'1.10.0+cu111'"
            ]
          },
          "metadata": {},
          "execution_count": 104
        }
      ]
    },
    {
      "cell_type": "markdown",
      "source": [
        ""
      ],
      "metadata": {
        "id": "-VvUCUa9DOZ-"
      }
    }
  ]
}